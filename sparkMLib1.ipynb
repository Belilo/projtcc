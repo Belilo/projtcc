{
 "cells": [
  {
   "cell_type": "code",
   "execution_count": 1,
   "id": "151cb364",
   "metadata": {},
   "outputs": [],
   "source": [
    "from pyspark.sql import SparkSession\n",
    "from pyspark.sql import functions as f  \n",
    "from pyspark.sql import types as t"
   ]
  },
  {
   "cell_type": "code",
   "execution_count": 2,
   "id": "27f09ba0",
   "metadata": {},
   "outputs": [],
   "source": [
    "#Importes para epata de Transformacao de dado mineracao de dados \n",
    "from pyspark.ml.feature import StringIndexer, OneHotEncoder\n"
   ]
  },
  {
   "cell_type": "code",
   "execution_count": 3,
   "id": "b4d77085",
   "metadata": {},
   "outputs": [],
   "source": [
    "from pyspark.ml.feature import VectorAssembler"
   ]
  },
  {
   "cell_type": "code",
   "execution_count": 4,
   "id": "9a6a8021",
   "metadata": {},
   "outputs": [],
   "source": [
    "#Padronizacao dos dados (Remocao outiliers)\n",
    "from pyspark.ml.feature import StandardScaler "
   ]
  },
  {
   "cell_type": "code",
   "execution_count": 5,
   "id": "cc158ca2",
   "metadata": {},
   "outputs": [],
   "source": [
    "#Imports para criacao de de modelos e validacao\n",
    "from pyspark.ml.classification import LogisticRegression\n",
    "from pyspark.ml.classification import NaiveBayes\n",
    "from pyspark.ml.classification import DecisionTreeClassifier\n",
    "\n",
    "from pyspark.mllib.evaluation import MulticlassMetrics\n",
    "from pyspark.ml.evaluation import MulticlassClassificationEvaluator"
   ]
  },
  {
   "cell_type": "code",
   "execution_count": 6,
   "id": "dfef1ea9",
   "metadata": {},
   "outputs": [],
   "source": [
    "from pyspark.ml.classification import RandomForestClassifier"
   ]
  },
  {
   "cell_type": "markdown",
   "id": "77f60887",
   "metadata": {},
   "source": [
    "# Biliotecas do panda\n"
   ]
  },
  {
   "cell_type": "code",
   "execution_count": 7,
   "id": "3541629e",
   "metadata": {},
   "outputs": [],
   "source": [
    "#import pyspark.pandas as ps "
   ]
  },
  {
   "cell_type": "code",
   "execution_count": 8,
   "id": "56ccc9f6",
   "metadata": {},
   "outputs": [],
   "source": [
    "#from IPython.display import display\n",
    "#import matplotlib.pyplot as plt"
   ]
  },
  {
   "cell_type": "code",
   "execution_count": 9,
   "id": "176579ba",
   "metadata": {},
   "outputs": [],
   "source": [
    "#import seaborn as sns"
   ]
  },
  {
   "cell_type": "code",
   "execution_count": null,
   "id": "0477a14c",
   "metadata": {},
   "outputs": [],
   "source": []
  },
  {
   "cell_type": "code",
   "execution_count": 10,
   "id": "c08d9f92",
   "metadata": {},
   "outputs": [],
   "source": [
    "spark = (\n",
    "    SparkSession.builder\n",
    "    .master('local')\n",
    "    .appName('labtcc')\n",
    "    .getOrCreate()\n",
    ")"
   ]
  },
  {
   "cell_type": "code",
   "execution_count": null,
   "id": "5c59c0d1",
   "metadata": {},
   "outputs": [],
   "source": []
  },
  {
   "cell_type": "markdown",
   "id": "55bc22ff",
   "metadata": {},
   "source": [
    "# CENARIO 9\n"
   ]
  },
  {
   "cell_type": "code",
   "execution_count": 11,
   "id": "5ece5bc3",
   "metadata": {},
   "outputs": [],
   "source": [
    "df = spark.read.csv('C:/Users/Belilo/Desktop/SparkJupyter/datasets/ctu13/cenario9.csv', header=True,inferSchema=True)"
   ]
  },
  {
   "cell_type": "code",
   "execution_count": 12,
   "id": "6b478b18",
   "metadata": {
    "scrolled": true
   },
   "outputs": [
    {
     "name": "stdout",
     "output_type": "stream",
     "text": [
      "+----------+---+-----+-----+-----+-----+-----------+----+----+-------+---------+---------+\n",
      "|     Label|Dir|Sport|Proto|Dport|State|        Dur|sTos|dTos|TotPkts| TotBytes| SrcBytes|\n",
      "+----------+---+-----+-----+-----+-----+-----------+----+----+-------+---------+---------+\n",
      "|Background|<->| 6881|  udp| 6881|  CON|1823.088379|   0|   0|      2|      214|      107|\n",
      "|Background|<->| 6881|  udp| 6881|  CON|2005.431641|   0|   0|      2|      214|      107|\n",
      "|Background|<->| 6881|  udp| 6881|  CON|1973.646729|   0|   0|      2|      214|      107|\n",
      "|Background|<->|35248|  udp|16200|  CON|3599.997803|   0|   0| 409227|207547419|182657149|\n",
      "|Background|<?>|   80|  tcp|59067|RA_PA|2059.387451|   0|   0| 224275|266462578|  3199174|\n",
      "+----------+---+-----+-----+-----+-----+-----------+----+----+-------+---------+---------+\n",
      "only showing top 5 rows\n",
      "\n"
     ]
    }
   ],
   "source": [
    "df.show(5)"
   ]
  },
  {
   "cell_type": "code",
   "execution_count": 13,
   "id": "6bbde3ac",
   "metadata": {},
   "outputs": [],
   "source": [
    "#dfpd = df.toPandas()"
   ]
  },
  {
   "cell_type": "code",
   "execution_count": 14,
   "id": "86a637c1",
   "metadata": {},
   "outputs": [],
   "source": [
    "#dfpd.head()"
   ]
  },
  {
   "cell_type": "code",
   "execution_count": 15,
   "id": "35f422e9",
   "metadata": {},
   "outputs": [],
   "source": [
    "# BoxPlot\n",
    "#dfpd.boxplot(column=['sTos','dTos','Dur'])\n",
    "#plt.show()"
   ]
  },
  {
   "cell_type": "code",
   "execution_count": null,
   "id": "0d362932",
   "metadata": {},
   "outputs": [],
   "source": []
  },
  {
   "cell_type": "code",
   "execution_count": null,
   "id": "210ea192",
   "metadata": {},
   "outputs": [],
   "source": []
  },
  {
   "cell_type": "markdown",
   "id": "bf4c6e05",
   "metadata": {},
   "source": [
    "**Contar todos dados do datset**\n"
   ]
  },
  {
   "cell_type": "code",
   "execution_count": 16,
   "id": "a0317a8b",
   "metadata": {},
   "outputs": [
    {
     "data": {
      "text/plain": [
       "2087508"
      ]
     },
     "execution_count": 16,
     "metadata": {},
     "output_type": "execute_result"
    }
   ],
   "source": [
    "df.count()"
   ]
  },
  {
   "cell_type": "markdown",
   "id": "411064c9",
   "metadata": {},
   "source": [
    "**Verificar os tipos de dados em cada coluna**"
   ]
  },
  {
   "cell_type": "code",
   "execution_count": 17,
   "id": "1099b483",
   "metadata": {},
   "outputs": [
    {
     "name": "stdout",
     "output_type": "stream",
     "text": [
      "root\n",
      " |-- Label: string (nullable = true)\n",
      " |-- Dir: string (nullable = true)\n",
      " |-- Sport: string (nullable = true)\n",
      " |-- Proto: string (nullable = true)\n",
      " |-- Dport: string (nullable = true)\n",
      " |-- State: string (nullable = true)\n",
      " |-- Dur: double (nullable = true)\n",
      " |-- sTos: integer (nullable = true)\n",
      " |-- dTos: integer (nullable = true)\n",
      " |-- TotPkts: integer (nullable = true)\n",
      " |-- TotBytes: long (nullable = true)\n",
      " |-- SrcBytes: integer (nullable = true)\n",
      "\n"
     ]
    }
   ],
   "source": [
    "df.printSchema()"
   ]
  },
  {
   "cell_type": "markdown",
   "id": "0bfd1c55",
   "metadata": {},
   "source": [
    "**Remonear colunas**"
   ]
  },
  {
   "cell_type": "code",
   "execution_count": 18,
   "id": "312b900a",
   "metadata": {},
   "outputs": [
    {
     "name": "stdout",
     "output_type": "stream",
     "text": [
      "+----------+-------+-----------+---------+------------+-------+-----------+----+----+-------+---------+---------+\n",
      "|    Rotulo|Direcao|PortaOrigem|protocolo|PortaDestino| Estado|    Duracao|sTos|dTos|TotPkts| TotBytes| SrcBytes|\n",
      "+----------+-------+-----------+---------+------------+-------+-----------+----+----+-------+---------+---------+\n",
      "|Background|    <->|       6881|      udp|        6881|    CON|1823.088379|   0|   0|      2|      214|      107|\n",
      "|Background|    <->|       6881|      udp|        6881|    CON|2005.431641|   0|   0|      2|      214|      107|\n",
      "|Background|    <->|       6881|      udp|        6881|    CON|1973.646729|   0|   0|      2|      214|      107|\n",
      "|Background|    <->|      35248|      udp|       16200|    CON|3599.997803|   0|   0| 409227|207547419|182657149|\n",
      "|Background|    <?>|         80|      tcp|       59067|  RA_PA|2059.387451|   0|   0| 224275|266462578|  3199174|\n",
      "|Background|    <?>|       1176|      tcp|          80| FPA_FA|  14.998429|   0|   0|      8|     3145|     2965|\n",
      "|Background|    <?>|      54145|      tcp|       56950| RPA_PA|  28.917549|   0|   0|   6021|  5651087|   138137|\n",
      "|Background|    <?>|         80|      tcp|       59066|  RA_PA| 2021.74353|   0|   0| 238990|284140836|  3402844|\n",
      "|Background|    <?>|      51505|      tcp|         443|FPA_RPA|   0.001742|   0|   0|      5|      606|      455|\n",
      "|Background|    <?>|         80|      tcp|       64872| RA_FPA| 196.055695|   0|   0|   6175|  5977561|   134036|\n",
      "|Background|    <?>|      61743|      tcp|          80| FPA_FA|3397.838379|   0|   0|  94719| 60612292| 58357732|\n",
      "|Background|     ->|       6881|      tcp|        3926|   S_RA|   1.204515|   0|   0|      6|      366|      186|\n",
      "|Background|    <->|      13363|      udp|       40335|    CON| 686.772705|   0|   0|      4|      268|      148|\n",
      "|Background|    <?>|      59231|      tcp|        8000|  PA_RA| 1837.57312|   0|   0|  57734| 47847900| 46268478|\n",
      "|Background|    <->|      28448|      udp|       13363|    CON|2653.336182|   0|   0|     11|     1401|      308|\n",
      "|    Normal|    <?>|        443|      tcp|       46402|FPA_FPA|1752.578735|   0|   0|    467|   274517|    79210|\n",
      "|Background|    <?>|      60573|      tcp|        3389| PA_RPA|2636.988525|   0|   0|  15456|  3996551|  3541110|\n",
      "|Background|    <?>|      60041|      tcp|          80| FPA_FA|   0.895833|   0|   0|     80|    75241|    73261|\n",
      "|Background|    <?>|      50417|      tcp|       51932| FA_FPA| 696.409363|   0|   0| 355172|362113748|  8220210|\n",
      "|Background|    <?>|         80|      tcp|       59064|  RA_PA|2021.699219|   0|   0| 169507|200895322|  2432572|\n",
      "+----------+-------+-----------+---------+------------+-------+-----------+----+----+-------+---------+---------+\n",
      "only showing top 20 rows\n",
      "\n"
     ]
    }
   ],
   "source": [
    "df = df.withColumnRenamed('Proto','protocolo').withColumnRenamed('Sport','PortaOrigem').withColumnRenamed('Dir','Direcao')\\\n",
    "        .withColumnRenamed('Dport','PortaDestino').withColumnRenamed('State','Estado').withColumnRenamed('Dur','Duracao')\\\n",
    "        .withColumnRenamed('Label',\"Rotulo\")\n",
    "df.show()"
   ]
  },
  {
   "cell_type": "markdown",
   "id": "16f0683b",
   "metadata": {},
   "source": [
    "**Mostrar Nomes das Colunas**"
   ]
  },
  {
   "cell_type": "code",
   "execution_count": 19,
   "id": "5f27d563",
   "metadata": {},
   "outputs": [
    {
     "data": {
      "text/plain": [
       "['Rotulo',\n",
       " 'Direcao',\n",
       " 'PortaOrigem',\n",
       " 'protocolo',\n",
       " 'PortaDestino',\n",
       " 'Estado',\n",
       " 'Duracao',\n",
       " 'sTos',\n",
       " 'dTos',\n",
       " 'TotPkts',\n",
       " 'TotBytes',\n",
       " 'SrcBytes']"
      ]
     },
     "execution_count": 19,
     "metadata": {},
     "output_type": "execute_result"
    }
   ],
   "source": [
    "df.columns"
   ]
  },
  {
   "cell_type": "code",
   "execution_count": null,
   "id": "e2bb1f04",
   "metadata": {},
   "outputs": [],
   "source": [
    "    "
   ]
  },
  {
   "cell_type": "markdown",
   "id": "e6d598ee",
   "metadata": {},
   "source": [
    "**Selecionar Colunas, atribuir ao novo datafreme**"
   ]
  },
  {
   "cell_type": "code",
   "execution_count": 20,
   "id": "0b110f0c",
   "metadata": {},
   "outputs": [
    {
     "name": "stdout",
     "output_type": "stream",
     "text": [
      "+-----------+---------+-----------+-------+------------+------+----+----+-------+---------+---------+----------+\n",
      "|    Duracao|protocolo|PortaOrigem|Direcao|PortaDestino|Estado|sTos|dTos|TotPkts| TotBytes| SrcBytes|    Rotulo|\n",
      "+-----------+---------+-----------+-------+------------+------+----+----+-------+---------+---------+----------+\n",
      "|1823.088379|      udp|       6881|    <->|        6881|   CON|   0|   0|      2|      214|      107|Background|\n",
      "|2005.431641|      udp|       6881|    <->|        6881|   CON|   0|   0|      2|      214|      107|Background|\n",
      "|1973.646729|      udp|       6881|    <->|        6881|   CON|   0|   0|      2|      214|      107|Background|\n",
      "|3599.997803|      udp|      35248|    <->|       16200|   CON|   0|   0| 409227|207547419|182657149|Background|\n",
      "|2059.387451|      tcp|         80|    <?>|       59067| RA_PA|   0|   0| 224275|266462578|  3199174|Background|\n",
      "+-----------+---------+-----------+-------+------------+------+----+----+-------+---------+---------+----------+\n",
      "only showing top 5 rows\n",
      "\n"
     ]
    }
   ],
   "source": [
    "df = df.select(f.col('Duracao'),f.col('protocolo'),f.col('PortaOrigem'),f.col('Direcao'),f.col('PortaDestino'),f.col('Estado')\\\n",
    "         ,f.col('sTos'),f.col('dTos'),f.col('TotPkts'),f.col('TotBytes'),f.col('SrcBytes'),f.col('Rotulo'))\n",
    "\n",
    "df.show(5)"
   ]
  },
  {
   "cell_type": "markdown",
   "id": "03abb73d",
   "metadata": {},
   "source": [
    "**Alterar o tipo de dados**"
   ]
  },
  {
   "cell_type": "code",
   "execution_count": 21,
   "id": "78a3fc1d",
   "metadata": {},
   "outputs": [
    {
     "name": "stdout",
     "output_type": "stream",
     "text": [
      "root\n",
      " |-- Duracao: double (nullable = true)\n",
      " |-- protocolo: string (nullable = true)\n",
      " |-- PortaOrigem: string (nullable = true)\n",
      " |-- Direcao: string (nullable = true)\n",
      " |-- PortaDestino: string (nullable = true)\n",
      " |-- Estado: string (nullable = true)\n",
      " |-- sTos: integer (nullable = true)\n",
      " |-- dTos: integer (nullable = true)\n",
      " |-- TotPkts: integer (nullable = true)\n",
      " |-- TotBytes: long (nullable = true)\n",
      " |-- SrcBytes: integer (nullable = true)\n",
      " |-- Rotulo: string (nullable = true)\n",
      "\n"
     ]
    }
   ],
   "source": [
    "df.printSchema()"
   ]
  },
  {
   "cell_type": "code",
   "execution_count": 22,
   "id": "89c5cc3a",
   "metadata": {},
   "outputs": [
    {
     "name": "stdout",
     "output_type": "stream",
     "text": [
      "root\n",
      " |-- Duracao: double (nullable = true)\n",
      " |-- protocolo: string (nullable = true)\n",
      " |-- PortaOrigem: integer (nullable = true)\n",
      " |-- Direcao: string (nullable = true)\n",
      " |-- PortaDestino: integer (nullable = true)\n",
      " |-- Estado: string (nullable = true)\n",
      " |-- sTos: integer (nullable = true)\n",
      " |-- dTos: integer (nullable = true)\n",
      " |-- TotPkts: integer (nullable = true)\n",
      " |-- TotBytes: long (nullable = true)\n",
      " |-- SrcBytes: integer (nullable = true)\n",
      " |-- Rotulo: string (nullable = true)\n",
      "\n"
     ]
    }
   ],
   "source": [
    "df = df.withColumn('PortaOrigem',f.col('Portaorigem').cast(t.IntegerType()))\\\n",
    "        .withColumn('PortaDestino',f.col('PortaDestino').cast(t.IntegerType()))\n",
    "\n",
    "df.printSchema()"
   ]
  },
  {
   "cell_type": "markdown",
   "id": "ddcd6458",
   "metadata": {},
   "source": [
    "**Tratando Valores Nulos / dados faltante**"
   ]
  },
  {
   "cell_type": "markdown",
   "id": "02297bc9",
   "metadata": {},
   "source": [
    "**Verificar Valores Nulos em cada coluna {Nome_coluna : Qtd de Valores nulos}**"
   ]
  },
  {
   "cell_type": "code",
   "execution_count": 23,
   "id": "16c7ad2b",
   "metadata": {},
   "outputs": [
    {
     "name": "stdout",
     "output_type": "stream",
     "text": [
      "Duracao  :  0\n",
      "protocolo  :  0\n",
      "PortaOrigem  :  24470\n",
      "Direcao  :  0\n",
      "PortaDestino  :  23862\n",
      "Estado  :  3\n",
      "sTos  :  9031\n",
      "dTos  :  173232\n",
      "TotPkts  :  0\n",
      "TotBytes  :  0\n",
      "SrcBytes  :  0\n",
      "Rotulo  :  0\n"
     ]
    }
   ],
   "source": [
    "for coluna in df.columns:\n",
    "    print(coluna,\" : \", df.filter(df[coluna].isNull()).count())"
   ]
  },
  {
   "cell_type": "markdown",
   "id": "410d052f",
   "metadata": {},
   "source": [
    "**Preencher Valores nulos apartir do calculo da moda (a frequencia dos dados)**"
   ]
  },
  {
   "cell_type": "code",
   "execution_count": 24,
   "id": "3a2def7e",
   "metadata": {},
   "outputs": [
    {
     "name": "stdout",
     "output_type": "stream",
     "text": [
      "Nome da coluna : O valor com maior frequencia (Moda)\n",
      "PortaOrigem  :  53\n",
      "PortaDestino  :  13363\n",
      "Estado  :  CON\n",
      "sTos  :  0\n",
      "dTos  :  0\n"
     ]
    }
   ],
   "source": [
    "# A impressao dos valores eh so para mostrar qual eh o valor mais frequente (a moda) em cda uma das colunas que posuem dados nulos\n",
    "print(\"Nome da coluna : O valor com maior frequencia (Moda)\")\n",
    "\n",
    "for coluna in df.columns:\n",
    "    if df.filter(df[coluna].isNull()).count() != 0:\n",
    "        count_mode_val = df.groupBy(coluna).count().filter(f.col(coluna).isNotNull())\\\n",
    "                            .agg(f.max(\"count\")).collect()[0][0]\n",
    "        mode_val = df.groupBy(coluna).count().filter(f.col(coluna).isNotNull())\\\n",
    "                            .filter(f.col(\"count\") == count_mode_val).select(coluna).collect()[0][0]\n",
    "\n",
    "        print(coluna,\" : \", mode_val)\n",
    "        df=df.na.fill(mode_val,subset=[coluna])"
   ]
  },
  {
   "cell_type": "code",
   "execution_count": null,
   "id": "c5fccb3a",
   "metadata": {},
   "outputs": [],
   "source": []
  },
  {
   "cell_type": "markdown",
   "id": "02bc5a50",
   "metadata": {},
   "source": [
    "**Verificando Novamente Valores nulos**"
   ]
  },
  {
   "cell_type": "code",
   "execution_count": 25,
   "id": "fa71f6da",
   "metadata": {},
   "outputs": [
    {
     "name": "stdout",
     "output_type": "stream",
     "text": [
      "Duracao  :  0\n",
      "protocolo  :  0\n",
      "PortaOrigem  :  0\n",
      "Direcao  :  0\n",
      "PortaDestino  :  0\n",
      "Estado  :  0\n",
      "sTos  :  0\n",
      "dTos  :  0\n",
      "TotPkts  :  0\n",
      "TotBytes  :  0\n",
      "SrcBytes  :  0\n",
      "Rotulo  :  0\n"
     ]
    }
   ],
   "source": [
    "for coluna in df.columns:\n",
    "    print(coluna,\" : \", df.filter(df[coluna].isNull()).count())"
   ]
  },
  {
   "cell_type": "markdown",
   "id": "221a5520",
   "metadata": {},
   "source": [
    "**Tratando dados ruidosos** "
   ]
  },
  {
   "cell_type": "code",
   "execution_count": 26,
   "id": "3948d1d9",
   "metadata": {},
   "outputs": [
    {
     "name": "stdout",
     "output_type": "stream",
     "text": [
      "+--------+\n",
      "|count(1)|\n",
      "+--------+\n",
      "| 2087508|\n",
      "+--------+\n",
      "\n"
     ]
    }
   ],
   "source": [
    "df.createOrReplaceTempView(\"tabela\")\n",
    "spark.sql(\"SELECT count(*) from tabela\").show()"
   ]
  },
  {
   "cell_type": "code",
   "execution_count": 27,
   "id": "0e20dcce",
   "metadata": {},
   "outputs": [
    {
     "name": "stdout",
     "output_type": "stream",
     "text": [
      "+-----------+\n",
      "|    Duracao|\n",
      "+-----------+\n",
      "|   6.940647|\n",
      "|2934.411621|\n",
      "| 148.079163|\n",
      "|3542.162598|\n",
      "|2935.303711|\n",
      "|    3.71E-4|\n",
      "|  16.357012|\n",
      "|3599.464844|\n",
      "|     7.5E-4|\n",
      "|   0.130722|\n",
      "| 191.274338|\n",
      "|   0.336695|\n",
      "|   2.020986|\n",
      "|3176.427979|\n",
      "|   0.327814|\n",
      "|3049.628174|\n",
      "|   0.114029|\n",
      "|  19.934669|\n",
      "|  18.339931|\n",
      "|3006.249512|\n",
      "+-----------+\n",
      "only showing top 20 rows\n",
      "\n"
     ]
    }
   ],
   "source": [
    "spark.sql(\"SELECT DISTINCT Duracao from tabela\").show()"
   ]
  },
  {
   "cell_type": "code",
   "execution_count": 28,
   "id": "820dbb09",
   "metadata": {},
   "outputs": [
    {
     "name": "stdout",
     "output_type": "stream",
     "text": [
      "+-----------+\n",
      "|PortaOrigem|\n",
      "+-----------+\n",
      "|      40574|\n",
      "|       1238|\n",
      "|      20683|\n",
      "|      64590|\n",
      "|      31261|\n",
      "|      34061|\n",
      "|      23364|\n",
      "|      27974|\n",
      "|      49855|\n",
      "|      43527|\n",
      "|      33569|\n",
      "|      16574|\n",
      "|       1342|\n",
      "|      20497|\n",
      "|      46465|\n",
      "|      26755|\n",
      "|      47501|\n",
      "|      11748|\n",
      "|      20735|\n",
      "|      38723|\n",
      "+-----------+\n",
      "only showing top 20 rows\n",
      "\n"
     ]
    }
   ],
   "source": [
    "spark.sql(\"SELECT DISTINCT PortaOrigem from tabela\").show()"
   ]
  },
  {
   "cell_type": "code",
   "execution_count": 29,
   "id": "d1a8bda7",
   "metadata": {},
   "outputs": [
    {
     "name": "stdout",
     "output_type": "stream",
     "text": [
      "+-------+\n",
      "|Direcao|\n",
      "+-------+\n",
      "|who    |\n",
      "|<?     |\n",
      "|?>     |\n",
      "|<->    |\n",
      "|<?>    |\n",
      "|<-     |\n",
      "|->     |\n",
      "+-------+\n",
      "\n"
     ]
    }
   ],
   "source": [
    "spark.sql(\"SELECT DISTINCT Direcao from tabela\").show(truncate=False)"
   ]
  },
  {
   "cell_type": "markdown",
   "id": "527986c0",
   "metadata": {},
   "source": [
    "**O Uso da funcao do replace do spark foi necessaria para tratar dados ruidosos na coluna Direcao**\n",
    "Tratandosse de dados bidirecional, a coluna deveria ter direcao para duplo sentido, sentido esquedo e direito"
   ]
  },
  {
   "cell_type": "code",
   "execution_count": 30,
   "id": "697398ce",
   "metadata": {},
   "outputs": [],
   "source": [
    "# Funcao replace do sql\n",
    "\n",
    "df=spark.sql(\"SELECT Duracao, protocolo, PortaOrigem, REPLACE(Direcao, '?', '-') as Direcao, PortaDestino, Estado\\\n",
    "            ,sTos, dTos, TotPkts, TotBytes, SrcBytes, Rotulo  from tabela\")"
   ]
  },
  {
   "cell_type": "code",
   "execution_count": 31,
   "id": "eb1ec96d",
   "metadata": {},
   "outputs": [
    {
     "name": "stdout",
     "output_type": "stream",
     "text": [
      "+-------+\n",
      "|Direcao|\n",
      "+-------+\n",
      "|who    |\n",
      "|<->    |\n",
      "|<-     |\n",
      "|->     |\n",
      "+-------+\n",
      "\n"
     ]
    }
   ],
   "source": [
    "df.createOrReplaceTempView(\"tabela\")\n",
    "spark.sql(\"SELECT DISTINCT Direcao from tabela\").show(truncate=False)"
   ]
  },
  {
   "cell_type": "code",
   "execution_count": 32,
   "id": "a76cb3ed",
   "metadata": {},
   "outputs": [
    {
     "name": "stdout",
     "output_type": "stream",
     "text": [
      "+-------+\n",
      "|Direcao|\n",
      "+-------+\n",
      "|<->    |\n",
      "|<-     |\n",
      "|->     |\n",
      "+-------+\n",
      "\n"
     ]
    }
   ],
   "source": [
    "df=df.withColumn('Direcao', f.regexp_replace('Direcao','who','<->'))\n",
    "df.createOrReplaceTempView(\"tabela\")\n",
    "spark.sql(\"SELECT DISTINCT Direcao from tabela\").show(truncate=False)"
   ]
  },
  {
   "cell_type": "markdown",
   "id": "d97ff71c",
   "metadata": {},
   "source": [
    "**Elimanar linhas repetidas - a funcao distintct() e a dropDuplicates() (quando nao passado nenhum parametro funcianam da mesma maneira, eliminanam linhas repetidas e retornam um novo datafreme)**"
   ]
  },
  {
   "cell_type": "code",
   "execution_count": 33,
   "id": "9059823e",
   "metadata": {},
   "outputs": [
    {
     "data": {
      "text/plain": [
       "2087508"
      ]
     },
     "execution_count": 33,
     "metadata": {},
     "output_type": "execute_result"
    }
   ],
   "source": [
    "#Total de linhas antes da eliminacao de linhas duplicadas \n",
    "df.count()"
   ]
  },
  {
   "cell_type": "code",
   "execution_count": 34,
   "id": "54d1c6ce",
   "metadata": {},
   "outputs": [
    {
     "name": "stdout",
     "output_type": "stream",
     "text": [
      "+----------+\n",
      "|sum(count)|\n",
      "+----------+\n",
      "|     60234|\n",
      "+----------+\n",
      "\n"
     ]
    }
   ],
   "source": [
    "# Contar linhas duplicadas \n",
    "\n",
    "df.groupBy(df.columns).count().where(f.col('count') > 1).select(f.sum('count')).show()"
   ]
  },
  {
   "cell_type": "code",
   "execution_count": 35,
   "id": "2d3496dc",
   "metadata": {},
   "outputs": [
    {
     "data": {
      "text/plain": [
       "2040586"
      ]
     },
     "execution_count": 35,
     "metadata": {},
     "output_type": "execute_result"
    }
   ],
   "source": [
    "# Total de linhas depois de eliminacao de duplicatas\n",
    "df.dropDuplicates().count()"
   ]
  },
  {
   "cell_type": "code",
   "execution_count": 36,
   "id": "7eac8923",
   "metadata": {},
   "outputs": [],
   "source": [
    "df=df.dropDuplicates()"
   ]
  },
  {
   "cell_type": "code",
   "execution_count": null,
   "id": "d43c59d3",
   "metadata": {},
   "outputs": [],
   "source": []
  },
  {
   "cell_type": "markdown",
   "id": "8760cba6",
   "metadata": {},
   "source": [
    "# Continuacao de preprocessamento - Etapa de Transformacao de dados e Mineracao (aplicando algoritmos de machine learning)"
   ]
  },
  {
   "cell_type": "markdown",
   "id": "278a7382",
   "metadata": {},
   "source": [
    "Creando indice para para as variaveis categoricas "
   ]
  },
  {
   "cell_type": "code",
   "execution_count": 37,
   "id": "dbb671eb",
   "metadata": {},
   "outputs": [],
   "source": [
    "#Novo datafreme para criacao de modelos \n",
    "dfparamodelos = df"
   ]
  },
  {
   "cell_type": "code",
   "execution_count": 38,
   "id": "879ad6c3",
   "metadata": {},
   "outputs": [
    {
     "name": "stdout",
     "output_type": "stream",
     "text": [
      "root\n",
      " |-- Duracao: double (nullable = true)\n",
      " |-- protocolo: string (nullable = true)\n",
      " |-- PortaOrigem: integer (nullable = true)\n",
      " |-- Direcao: string (nullable = true)\n",
      " |-- PortaDestino: integer (nullable = true)\n",
      " |-- Estado: string (nullable = false)\n",
      " |-- sTos: integer (nullable = true)\n",
      " |-- dTos: integer (nullable = true)\n",
      " |-- TotPkts: integer (nullable = true)\n",
      " |-- TotBytes: long (nullable = true)\n",
      " |-- SrcBytes: integer (nullable = true)\n",
      " |-- Rotulo: string (nullable = true)\n",
      "\n"
     ]
    }
   ],
   "source": [
    "dfparamodelos.printSchema()"
   ]
  },
  {
   "cell_type": "code",
   "execution_count": 39,
   "id": "80f77dde",
   "metadata": {},
   "outputs": [],
   "source": [
    "# criar o objeto da classe StringIndexer com especificacao da coluna de entrada e saída (transformar dados categoricos em numericos continuos para criacao de modelos)\n",
    "SI_protocolo = StringIndexer(inputCol='protocolo',outputCol='protocolo_index')\n",
    "SI_direcao = StringIndexer(inputCol='Direcao',outputCol='Direcao_index')\n",
    "SI_estado = StringIndexer(inputCol='Estado',outputCol='Estado_index')\n",
    "SI_rotulo = StringIndexer(inputCol='Rotulo',outputCol='rotulo_index')"
   ]
  },
  {
   "cell_type": "code",
   "execution_count": 40,
   "id": "b19d7cad",
   "metadata": {},
   "outputs": [],
   "source": [
    "# Aplicando a funcao transfoma(df), nos objectos criados \n",
    "dfparamodelos = SI_protocolo.fit(dfparamodelos).transform(dfparamodelos)\n",
    "dfparamodelos = SI_direcao.fit(dfparamodelos).transform(dfparamodelos)\n",
    "dfparamodelos = SI_estado.fit(dfparamodelos).transform(dfparamodelos)\n",
    "dfparamodelos = SI_rotulo.fit(dfparamodelos).transform(dfparamodelos)"
   ]
  },
  {
   "cell_type": "code",
   "execution_count": 41,
   "id": "9d88d7c8",
   "metadata": {},
   "outputs": [
    {
     "data": {
      "text/plain": [
       "['Duracao',\n",
       " 'protocolo',\n",
       " 'PortaOrigem',\n",
       " 'Direcao',\n",
       " 'PortaDestino',\n",
       " 'Estado',\n",
       " 'sTos',\n",
       " 'dTos',\n",
       " 'TotPkts',\n",
       " 'TotBytes',\n",
       " 'SrcBytes',\n",
       " 'Rotulo',\n",
       " 'protocolo_index',\n",
       " 'Direcao_index',\n",
       " 'Estado_index',\n",
       " 'rotulo_index']"
      ]
     },
     "execution_count": 41,
     "metadata": {},
     "output_type": "execute_result"
    }
   ],
   "source": [
    "dfparamodelos.columns"
   ]
  },
  {
   "cell_type": "code",
   "execution_count": 42,
   "id": "80644abd",
   "metadata": {},
   "outputs": [],
   "source": [
    "#vector assembler\n",
    "assembler = VectorAssembler( inputCols=['Duracao','protocolo_index','PortaOrigem'\\\n",
    "                                        ,'Direcao_index','PortaDestino','Estado_index'\\\n",
    "                                        ,'sTos','dTos','TotPkts','TotBytes','SrcBytes']\\\n",
    "                            ,outputCol='features')"
   ]
  },
  {
   "cell_type": "code",
   "execution_count": 43,
   "id": "e33e3855",
   "metadata": {},
   "outputs": [
    {
     "name": "stdout",
     "output_type": "stream",
     "text": [
      "+-----------+---------+-----------+-------+------------+------+----+----+-------+--------+--------+----------+---------------+-------------+------------+------------+--------------------+\n",
      "|    Duracao|protocolo|PortaOrigem|Direcao|PortaDestino|Estado|sTos|dTos|TotPkts|TotBytes|SrcBytes|    Rotulo|protocolo_index|Direcao_index|Estado_index|rotulo_index|            features|\n",
      "+-----------+---------+-----------+-------+------------+------+----+----+-------+--------+--------+----------+---------------+-------------+------------+------------+--------------------+\n",
      "|  28.917549|      tcp|      54145|    <->|       56950|RPA_PA|   0|   0|   6021| 5651087|  138137|Background|            1.0|          0.0|        50.0|         0.0|[28.917549,1.0,54...|\n",
      "|2476.756836|      tcp|      21456|    <->|         443|FPA_PA|   0|   0|    551|   60009|   32677|Background|            1.0|          0.0|        89.0|         0.0|[2476.756836,1.0,...|\n",
      "|1830.480713|      udp|      12114|    <->|       18720|   CON|   0|   0|      6|     407|     223|Background|            0.0|          0.0|         0.0|         0.0|(11,[0,2,4,8,9,10...|\n",
      "+-----------+---------+-----------+-------+------------+------+----+----+-------+--------+--------+----------+---------------+-------------+------------+------------+--------------------+\n",
      "only showing top 3 rows\n",
      "\n"
     ]
    }
   ],
   "source": [
    "dfmodel = assembler.transform(dfparamodelos)\n",
    "dfmodel.show(3)"
   ]
  },
  {
   "cell_type": "code",
   "execution_count": 44,
   "id": "9eceb31c",
   "metadata": {},
   "outputs": [],
   "source": [
    "dfmodel = dfmodel.select(f.col('features'),f.col('rotulo_index')).withColumnRenamed('rotulo_index','label')"
   ]
  },
  {
   "cell_type": "code",
   "execution_count": 45,
   "id": "8d098818",
   "metadata": {},
   "outputs": [
    {
     "name": "stdout",
     "output_type": "stream",
     "text": [
      "+--------------------------------------------------------------------------+-----+\n",
      "|features                                                                  |label|\n",
      "+--------------------------------------------------------------------------+-----+\n",
      "|[28.917549,1.0,54145.0,0.0,56950.0,50.0,0.0,0.0,6021.0,5651087.0,138137.0]|0.0  |\n",
      "|[2476.756836,1.0,21456.0,0.0,443.0,89.0,0.0,0.0,551.0,60009.0,32677.0]    |0.0  |\n",
      "|(11,[0,2,4,8,9,10],[1830.480713,12114.0,18720.0,6.0,407.0,223.0])         |0.0  |\n",
      "+--------------------------------------------------------------------------+-----+\n",
      "only showing top 3 rows\n",
      "\n"
     ]
    }
   ],
   "source": [
    "dfmodel.show(3,truncate=False)"
   ]
  },
  {
   "cell_type": "code",
   "execution_count": 46,
   "id": "9b311263",
   "metadata": {},
   "outputs": [],
   "source": [
    "#BoxPlot antes da normalizacao \n",
    "#dfmodelpd = dfmodel.toPandas()"
   ]
  },
  {
   "cell_type": "code",
   "execution_count": 47,
   "id": "7dad929d",
   "metadata": {},
   "outputs": [],
   "source": [
    "#dfmodelpd.head()"
   ]
  },
  {
   "cell_type": "code",
   "execution_count": 48,
   "id": "ecc9be36",
   "metadata": {},
   "outputs": [],
   "source": [
    "#Padronizacao dos dados (Remocao de outiliers)\n",
    "standerscaler = StandardScaler().setInputCol('features').setOutputCol('scaled_features')\n",
    "dfmodeldado = standerscaler.fit(dfmodel).transform(dfmodel)"
   ]
  },
  {
   "cell_type": "code",
   "execution_count": 49,
   "id": "13e20038",
   "metadata": {},
   "outputs": [
    {
     "name": "stdout",
     "output_type": "stream",
     "text": [
      "+--------------------+-----+--------------------+\n",
      "|            features|label|     scaled_features|\n",
      "+--------------------+-----+--------------------+\n",
      "|[28.917549,1.0,54...|  0.0|[0.03418786751235...|\n",
      "|[2476.756836,1.0,...|  0.0|[2.92815392374630...|\n",
      "|(11,[0,2,4,8,9,10...|  0.0|(11,[0,2,4,8,9,10...|\n",
      "+--------------------+-----+--------------------+\n",
      "only showing top 3 rows\n",
      "\n"
     ]
    }
   ],
   "source": [
    "dfmodeldado.show(3)"
   ]
  },
  {
   "cell_type": "code",
   "execution_count": 50,
   "id": "844c591d",
   "metadata": {},
   "outputs": [
    {
     "name": "stdout",
     "output_type": "stream",
     "text": [
      "+--------------------------------------------------------------------------------------------------------------------------------------------------------------------------+-----+\n",
      "|scaled_features                                                                                                                                                           |label|\n",
      "+--------------------------------------------------------------------------------------------------------------------------------------------------------------------------+-----+\n",
      "|[0.03418786751235035,2.247944335054003,4.477133906307787,0.0,2.767571549195467,7.960832896613092,0.0,0.0,0.4716957947502525,1.0375182817627382,0.08290899759849596]       |0.0  |\n",
      "|[2.9281539237463052,2.247944335054003,1.7741506158230653,0.0,0.02152825630015087,14.170282555971303,0.0,0.0,0.043166315048561554,0.011017426305824021,0.01961253910629341]|0.0  |\n",
      "|(11,[0,2,4,8,9,10],[2.1640918495532455,1.0016806748732576,0.9097267673562625,4.7005061758869206E-4,7.472366655785593E-5,1.3384326041874806E-4])                           |0.0  |\n",
      "+--------------------------------------------------------------------------------------------------------------------------------------------------------------------------+-----+\n",
      "only showing top 3 rows\n",
      "\n"
     ]
    }
   ],
   "source": [
    "dadomodel = dfmodeldado.select(f.col('scaled_features'),f.col('label'))\n",
    "dadomodel.show(3,truncate=False)"
   ]
  },
  {
   "cell_type": "code",
   "execution_count": null,
   "id": "9091a2a7",
   "metadata": {},
   "outputs": [],
   "source": []
  },
  {
   "cell_type": "code",
   "execution_count": 51,
   "id": "fe51b985",
   "metadata": {},
   "outputs": [],
   "source": [
    "#Dividir os dados para treino e teste (70% treino, 30% teste)\n",
    "df_treinamento,df_teste = dadomodel.randomSplit([0.7,0.3])"
   ]
  },
  {
   "cell_type": "code",
   "execution_count": 52,
   "id": "fc2f907c",
   "metadata": {},
   "outputs": [
    {
     "data": {
      "text/plain": [
       "1428364"
      ]
     },
     "execution_count": 52,
     "metadata": {},
     "output_type": "execute_result"
    }
   ],
   "source": [
    "df_treinamento.count()"
   ]
  },
  {
   "cell_type": "code",
   "execution_count": 53,
   "id": "00b78a75",
   "metadata": {},
   "outputs": [
    {
     "data": {
      "text/plain": [
       "612222"
      ]
     },
     "execution_count": 53,
     "metadata": {},
     "output_type": "execute_result"
    }
   ],
   "source": [
    "df_teste.count()"
   ]
  },
  {
   "cell_type": "code",
   "execution_count": null,
   "id": "68f66c1e",
   "metadata": {},
   "outputs": [],
   "source": []
  },
  {
   "cell_type": "markdown",
   "id": "99247e15",
   "metadata": {},
   "source": [
    "**Criacao dos modelos**"
   ]
  },
  {
   "cell_type": "code",
   "execution_count": null,
   "id": "04ce74d4",
   "metadata": {},
   "outputs": [],
   "source": []
  },
  {
   "cell_type": "markdown",
   "id": "d7591e5d",
   "metadata": {},
   "source": [
    "**Regressao Logistica**"
   ]
  },
  {
   "cell_type": "code",
   "execution_count": 54,
   "id": "b716d348",
   "metadata": {},
   "outputs": [],
   "source": [
    "#Create a logistic regression model object\n",
    "\n",
    "log_reg=LogisticRegression(labelCol='label', featuresCol='scaled_features', maxIter=50)\n",
    "log_reg_Modelo=log_reg.fit(df_treinamento)\n",
    "\n"
   ]
  },
  {
   "cell_type": "code",
   "execution_count": 55,
   "id": "36c522df",
   "metadata": {},
   "outputs": [],
   "source": [
    "#teste dos modelo\n",
    "predicao_teste = log_reg_Modelo.transform(df_teste)\n"
   ]
  },
  {
   "cell_type": "code",
   "execution_count": 56,
   "id": "fe9f6f32",
   "metadata": {},
   "outputs": [
    {
     "name": "stdout",
     "output_type": "stream",
     "text": [
      "+--------------------+-----+--------------------+--------------------+----------+\n",
      "|     scaled_features|label|       rawPrediction|         probability|prediction|\n",
      "+--------------------+-----+--------------------+--------------------+----------+\n",
      "|(11,[0,2,4,8,9,10...|  0.0|[6.70566167356518...|[0.98337973773360...|       0.0|\n",
      "|(11,[0,2,4,8,9,10...|  0.0|[8.12121403550376...|[0.98111771001225...|       0.0|\n",
      "|(11,[0,2,4,8,9,10...|  0.0|[9.25039390733130...|[0.97909905325546...|       0.0|\n",
      "+--------------------+-----+--------------------+--------------------+----------+\n",
      "only showing top 3 rows\n",
      "\n"
     ]
    }
   ],
   "source": [
    "predicao_teste.show(3)"
   ]
  },
  {
   "cell_type": "code",
   "execution_count": 57,
   "id": "aa18796d",
   "metadata": {},
   "outputs": [],
   "source": [
    "predicaorotulo=predicao_teste.select('label','prediction')"
   ]
  },
  {
   "cell_type": "code",
   "execution_count": 58,
   "id": "d2e85629",
   "metadata": {},
   "outputs": [
    {
     "name": "stdout",
     "output_type": "stream",
     "text": [
      "Acuracia:  0.9435368216104616\n"
     ]
    }
   ],
   "source": [
    "Evaluator = MulticlassClassificationEvaluator(labelCol='label', predictionCol='prediction', metricName='accuracy')\n",
    "acuracia_LR = Evaluator.evaluate(predicaorotulo)\n",
    "\n",
    "print(\"Acuracia: \", acuracia_LR)"
   ]
  },
  {
   "cell_type": "code",
   "execution_count": 59,
   "id": "5a8f30b8",
   "metadata": {},
   "outputs": [
    {
     "name": "stdout",
     "output_type": "stream",
     "text": [
      "Precisao:  0.9624817773215425\n"
     ]
    }
   ],
   "source": [
    "Evaluator = MulticlassClassificationEvaluator(labelCol='label', predictionCol='prediction', metricName='precisionByLabel')\n",
    "precisao_LR = Evaluator.evaluate(predicaorotulo)\n",
    "\n",
    "print(\"Precisao: \", precisao_LR)"
   ]
  },
  {
   "cell_type": "code",
   "execution_count": 60,
   "id": "eba9bfa1",
   "metadata": {},
   "outputs": [
    {
     "name": "stdout",
     "output_type": "stream",
     "text": [
      "Recal:  0.9756389249693341\n"
     ]
    }
   ],
   "source": [
    "Evaluator = MulticlassClassificationEvaluator(labelCol='label', predictionCol='prediction', metricName='recallByLabel')\n",
    "recal_LR = Evaluator.evaluate(predicaorotulo)\n",
    "\n",
    "print(\"Recal: \", recal_LR)"
   ]
  },
  {
   "cell_type": "markdown",
   "id": "00306527",
   "metadata": {},
   "source": [
    "**Naive Bayes**"
   ]
  },
  {
   "cell_type": "code",
   "execution_count": 61,
   "id": "208fb9d5",
   "metadata": {},
   "outputs": [],
   "source": [
    "NB= NaiveBayes(labelCol='label',featuresCol='scaled_features', smoothing=1.0)\n",
    "modeloNB = NB.fit(df_treinamento)"
   ]
  },
  {
   "cell_type": "code",
   "execution_count": 62,
   "id": "e7218677",
   "metadata": {},
   "outputs": [],
   "source": [
    "predicao_testeNB = modeloNB.transform(df_teste)"
   ]
  },
  {
   "cell_type": "code",
   "execution_count": 63,
   "id": "9ca53aaa",
   "metadata": {},
   "outputs": [
    {
     "name": "stdout",
     "output_type": "stream",
     "text": [
      "+--------------------+-----+--------------------+--------------------+----------+\n",
      "|     scaled_features|label|       rawPrediction|         probability|prediction|\n",
      "+--------------------+-----+--------------------+--------------------+----------+\n",
      "|(11,[0,2,4,8,9,10...|  0.0|[-1.3922834046431...|[0.97921385933308...|       0.0|\n",
      "|(11,[0,2,4,8,9,10...|  0.0|[-1.6947095060392...|[0.97987627439836...|       0.0|\n",
      "|(11,[0,2,4,8,9,10...|  0.0|[-1.9359706852228...|[0.97980290176649...|       0.0|\n",
      "+--------------------+-----+--------------------+--------------------+----------+\n",
      "only showing top 3 rows\n",
      "\n"
     ]
    }
   ],
   "source": [
    "predicao_testeNB.show(3)"
   ]
  },
  {
   "cell_type": "code",
   "execution_count": 64,
   "id": "e3541fa6",
   "metadata": {},
   "outputs": [],
   "source": [
    "predicaorotuloNB=predicao_testeNB.select('label','prediction')"
   ]
  },
  {
   "cell_type": "code",
   "execution_count": 65,
   "id": "94825377",
   "metadata": {},
   "outputs": [
    {
     "name": "stdout",
     "output_type": "stream",
     "text": [
      "Acuracia:  0.8670906958586918\n"
     ]
    }
   ],
   "source": [
    "Evaluator = MulticlassClassificationEvaluator(labelCol='label', predictionCol='prediction', metricName='accuracy')\n",
    "acuracia_NB = Evaluator.evaluate(predicaorotuloNB)\n",
    "\n",
    "print(\"Acuracia: \", acuracia_NB)"
   ]
  },
  {
   "cell_type": "code",
   "execution_count": 66,
   "id": "4aa820c0",
   "metadata": {},
   "outputs": [
    {
     "name": "stdout",
     "output_type": "stream",
     "text": [
      "Precisao:  0.9240745230078563\n"
     ]
    }
   ],
   "source": [
    "Evaluator = MulticlassClassificationEvaluator(labelCol='label', predictionCol='prediction', metricName='precisionByLabel')\n",
    "precisao_NB = Evaluator.evaluate(predicaorotuloNB)\n",
    "\n",
    "print(\"Precisao: \", precisao_NB)"
   ]
  },
  {
   "cell_type": "code",
   "execution_count": 67,
   "id": "3f408090",
   "metadata": {},
   "outputs": [
    {
     "name": "stdout",
     "output_type": "stream",
     "text": [
      "Recal:  0.9296301849707432\n"
     ]
    }
   ],
   "source": [
    "Evaluator = MulticlassClassificationEvaluator(labelCol='label', predictionCol='prediction', metricName='recallByLabel')\n",
    "recal_NB = Evaluator.evaluate(predicaorotuloNB)\n",
    "\n",
    "print(\"Recal: \", recal_NB)"
   ]
  },
  {
   "cell_type": "code",
   "execution_count": null,
   "id": "c8c1d0df",
   "metadata": {},
   "outputs": [],
   "source": []
  },
  {
   "cell_type": "markdown",
   "id": "31109e71",
   "metadata": {},
   "source": [
    "**Decision tree**"
   ]
  },
  {
   "cell_type": "code",
   "execution_count": 68,
   "id": "11f81c86",
   "metadata": {},
   "outputs": [],
   "source": [
    "# Train a DecisionTree model.\n",
    "dt = DecisionTreeClassifier(labelCol=\"label\", featuresCol=\"scaled_features\"\\\n",
    "                            ,impurity='gini', maxDepth=8, maxBins=32)\n",
    "\n"
   ]
  },
  {
   "cell_type": "code",
   "execution_count": 69,
   "id": "63753bcb",
   "metadata": {},
   "outputs": [],
   "source": [
    "dtmodelo=dt.fit(df_treinamento)"
   ]
  },
  {
   "cell_type": "code",
   "execution_count": 70,
   "id": "67aa8f7b",
   "metadata": {},
   "outputs": [],
   "source": [
    "predicao_testeDT = dtmodelo.transform(df_teste)"
   ]
  },
  {
   "cell_type": "code",
   "execution_count": 71,
   "id": "b1d48b8e",
   "metadata": {},
   "outputs": [
    {
     "name": "stdout",
     "output_type": "stream",
     "text": [
      "+--------------------+-----+--------------------+--------------------+----------+\n",
      "|     scaled_features|label|       rawPrediction|         probability|prediction|\n",
      "+--------------------+-----+--------------------+--------------------+----------+\n",
      "|(11,[0,2,4,8,9,10...|  0.0|[436170.0,5.0,370...|[0.99155911912940...|       0.0|\n",
      "|(11,[0,2,4,8,9,10...|  0.0|[436170.0,5.0,370...|[0.99155911912940...|       0.0|\n",
      "|(11,[0,2,4,8,9,10...|  0.0|[436170.0,5.0,370...|[0.99155911912940...|       0.0|\n",
      "+--------------------+-----+--------------------+--------------------+----------+\n",
      "only showing top 3 rows\n",
      "\n"
     ]
    }
   ],
   "source": [
    "predicao_testeDT.show(3)"
   ]
  },
  {
   "cell_type": "code",
   "execution_count": null,
   "id": "7ad82d94",
   "metadata": {},
   "outputs": [],
   "source": []
  },
  {
   "cell_type": "code",
   "execution_count": 72,
   "id": "90f30e42",
   "metadata": {},
   "outputs": [],
   "source": [
    "predicaorotuloDT=predicao_testeDT.select('label','prediction')"
   ]
  },
  {
   "cell_type": "code",
   "execution_count": 73,
   "id": "f8a8052a",
   "metadata": {},
   "outputs": [
    {
     "name": "stdout",
     "output_type": "stream",
     "text": [
      "Acuracia:  0.9754370146776823\n"
     ]
    }
   ],
   "source": [
    "Evaluator = MulticlassClassificationEvaluator(labelCol='label', predictionCol='prediction', metricName='accuracy')\n",
    "acuracia_DT = Evaluator.evaluate(predicaorotuloDT)\n",
    "\n",
    "print(\"Acuracia: \", acuracia_DT)"
   ]
  },
  {
   "cell_type": "code",
   "execution_count": 74,
   "id": "d68a9676",
   "metadata": {},
   "outputs": [
    {
     "name": "stdout",
     "output_type": "stream",
     "text": [
      "Precisao:  0.9777972186189628\n"
     ]
    }
   ],
   "source": [
    "Evaluator = MulticlassClassificationEvaluator(labelCol='label', predictionCol='prediction', metricName='precisionByLabel')\n",
    "precisao_DT = Evaluator.evaluate(predicaorotuloDT)\n",
    "\n",
    "print(\"Precisao: \", precisao_DT)"
   ]
  },
  {
   "cell_type": "code",
   "execution_count": 75,
   "id": "3ffdc6e7",
   "metadata": {},
   "outputs": [
    {
     "name": "stdout",
     "output_type": "stream",
     "text": [
      "Recal:  0.9954367018518753\n"
     ]
    }
   ],
   "source": [
    "Evaluator = MulticlassClassificationEvaluator(labelCol='label', predictionCol='prediction', metricName='recallByLabel')\n",
    "recal_DT = Evaluator.evaluate(predicaorotuloDT)\n",
    "\n",
    "print(\"Recal: \", recal_DT)"
   ]
  },
  {
   "cell_type": "code",
   "execution_count": null,
   "id": "4b5cbcff",
   "metadata": {},
   "outputs": [],
   "source": []
  },
  {
   "cell_type": "code",
   "execution_count": null,
   "id": "6640f146",
   "metadata": {},
   "outputs": [],
   "source": []
  },
  {
   "cell_type": "code",
   "execution_count": null,
   "id": "31c9480f",
   "metadata": {},
   "outputs": [],
   "source": []
  },
  {
   "cell_type": "code",
   "execution_count": null,
   "id": "3693cdba",
   "metadata": {},
   "outputs": [],
   "source": []
  },
  {
   "cell_type": "markdown",
   "id": "89741d3c",
   "metadata": {},
   "source": [
    "**Random Forest Classifier**"
   ]
  },
  {
   "cell_type": "code",
   "execution_count": 76,
   "id": "7bbe22bd",
   "metadata": {},
   "outputs": [],
   "source": [
    "rfc = RandomForestClassifier(labelCol='label', featuresCol='scaled_features')\n"
   ]
  },
  {
   "cell_type": "code",
   "execution_count": 77,
   "id": "58fe904f",
   "metadata": {},
   "outputs": [],
   "source": [
    "modeloRFC = rfc.fit(df_treinamento)"
   ]
  },
  {
   "cell_type": "code",
   "execution_count": 78,
   "id": "0e04bd08",
   "metadata": {},
   "outputs": [],
   "source": [
    "predicao_testeRFC=modeloRFC.transform(df_teste)"
   ]
  },
  {
   "cell_type": "code",
   "execution_count": 79,
   "id": "5aa22042",
   "metadata": {},
   "outputs": [
    {
     "name": "stdout",
     "output_type": "stream",
     "text": [
      "+--------------------+-----+--------------------+--------------------+----------+\n",
      "|     scaled_features|label|       rawPrediction|         probability|prediction|\n",
      "+--------------------+-----+--------------------+--------------------+----------+\n",
      "|(11,[0,2,4,8,9,10...|  0.0|[19.4052422270422...|[0.97026211135211...|       0.0|\n",
      "|(11,[0,2,4,8,9,10...|  0.0|[19.6093330165086...|[0.98046665082543...|       0.0|\n",
      "|(11,[0,2,4,8,9,10...|  0.0|[19.6093330165086...|[0.98046665082543...|       0.0|\n",
      "+--------------------+-----+--------------------+--------------------+----------+\n",
      "only showing top 3 rows\n",
      "\n"
     ]
    }
   ],
   "source": [
    "predicao_testeRFC.show(3)"
   ]
  },
  {
   "cell_type": "code",
   "execution_count": null,
   "id": "9e38cd95",
   "metadata": {},
   "outputs": [],
   "source": []
  },
  {
   "cell_type": "code",
   "execution_count": 80,
   "id": "65a6aad8",
   "metadata": {},
   "outputs": [],
   "source": [
    "predicaorotuloRFC=predicao_testeRFC.select('label','prediction')"
   ]
  },
  {
   "cell_type": "code",
   "execution_count": 81,
   "id": "4aa56977",
   "metadata": {},
   "outputs": [
    {
     "name": "stdout",
     "output_type": "stream",
     "text": [
      "Acuracia:  0.9678155963033017\n"
     ]
    }
   ],
   "source": [
    "Evaluator = MulticlassClassificationEvaluator(labelCol='label', predictionCol='prediction', metricName='accuracy')\n",
    "acuracia_RFC = Evaluator.evaluate(predicaorotuloRFC)\n",
    "\n",
    "print(\"Acuracia: \", acuracia_RFC)"
   ]
  },
  {
   "cell_type": "code",
   "execution_count": 82,
   "id": "58d842cb",
   "metadata": {},
   "outputs": [
    {
     "name": "stdout",
     "output_type": "stream",
     "text": [
      "Precisao:  0.967110639779781\n"
     ]
    }
   ],
   "source": [
    "Evaluator = MulticlassClassificationEvaluator(labelCol='label', predictionCol='prediction', metricName='precisionByLabel')\n",
    "precisao_RFC = Evaluator.evaluate(predicaorotuloRFC)\n",
    "\n",
    "print(\"Precisao: \", precisao_RFC)"
   ]
  },
  {
   "cell_type": "code",
   "execution_count": 83,
   "id": "0f263d14",
   "metadata": {},
   "outputs": [
    {
     "name": "stdout",
     "output_type": "stream",
     "text": [
      "Recal:  0.9983560564866217\n"
     ]
    }
   ],
   "source": [
    "Evaluator = MulticlassClassificationEvaluator(labelCol='label', predictionCol='prediction', metricName='recallByLabel')\n",
    "recal_RFC = Evaluator.evaluate(predicaorotuloRFC)\n",
    "\n",
    "print(\"Recal: \", recal_RFC)"
   ]
  },
  {
   "cell_type": "code",
   "execution_count": null,
   "id": "209f9de0",
   "metadata": {},
   "outputs": [],
   "source": []
  },
  {
   "cell_type": "code",
   "execution_count": null,
   "id": "2da2db60",
   "metadata": {},
   "outputs": [],
   "source": []
  },
  {
   "cell_type": "code",
   "execution_count": null,
   "id": "de1ff92f",
   "metadata": {},
   "outputs": [],
   "source": []
  },
  {
   "cell_type": "code",
   "execution_count": null,
   "id": "e9a334b8",
   "metadata": {},
   "outputs": [],
   "source": []
  },
  {
   "cell_type": "code",
   "execution_count": null,
   "id": "2c7d467f",
   "metadata": {},
   "outputs": [],
   "source": []
  },
  {
   "cell_type": "code",
   "execution_count": null,
   "id": "febd27bc",
   "metadata": {},
   "outputs": [],
   "source": []
  },
  {
   "cell_type": "code",
   "execution_count": null,
   "id": "02b90ac5",
   "metadata": {},
   "outputs": [],
   "source": []
  },
  {
   "cell_type": "code",
   "execution_count": null,
   "id": "5fc4106d",
   "metadata": {},
   "outputs": [],
   "source": []
  },
  {
   "cell_type": "code",
   "execution_count": null,
   "id": "5f550927",
   "metadata": {},
   "outputs": [],
   "source": []
  },
  {
   "cell_type": "markdown",
   "id": "eb672014",
   "metadata": {},
   "source": [
    "**CENARIO 10**"
   ]
  },
  {
   "cell_type": "code",
   "execution_count": null,
   "id": "19362211",
   "metadata": {},
   "outputs": [],
   "source": []
  },
  {
   "cell_type": "code",
   "execution_count": 84,
   "id": "0c1e3e9a",
   "metadata": {},
   "outputs": [],
   "source": [
    "df = spark.read.csv('C:/Users/Belilo/Desktop/SparkJupyter/datasets/ctu13/cenario10.csv', header=True,inferSchema=True)"
   ]
  },
  {
   "cell_type": "code",
   "execution_count": 85,
   "id": "4e50a860",
   "metadata": {},
   "outputs": [
    {
     "name": "stdout",
     "output_type": "stream",
     "text": [
      "+----------+-----+-----+---+-----+--------+-----------+----+----+-------+--------+--------+\n",
      "|     Label|Proto|Sport|Dir|Dport|   State|        Dur|sTos|dTos|TotPkts|TotBytes|SrcBytes|\n",
      "+----------+-----+-----+---+-----+--------+-----------+----+----+-------+--------+--------+\n",
      "|Background|  udp|60621|<->|63550|     CON| 2752.65625|   0|   0|      3|     435|     290|\n",
      "|Background|  udp|51413|<->|63550|     CON|1849.315552|   0|   0|      3|     417|     272|\n",
      "|Background|  udp|63195|<->|63550|     CON|2091.747314|   0|   0|      2|     290|     145|\n",
      "|Background|  udp|39110|<->|63550|     CON|1535.769409|   0|   0|      2|     290|     145|\n",
      "|Background|  tcp|33426|<?>|25443|FRPA_FPA|   0.002636|   0|   0|      6|     490|     321|\n",
      "+----------+-----+-----+---+-----+--------+-----------+----+----+-------+--------+--------+\n",
      "only showing top 5 rows\n",
      "\n"
     ]
    }
   ],
   "source": [
    "df.show(5)"
   ]
  },
  {
   "cell_type": "markdown",
   "id": "99dc544c",
   "metadata": {},
   "source": [
    "**Contar todos dados do datset**\n"
   ]
  },
  {
   "cell_type": "code",
   "execution_count": 86,
   "id": "a482913f",
   "metadata": {},
   "outputs": [
    {
     "data": {
      "text/plain": [
       "1309791"
      ]
     },
     "execution_count": 86,
     "metadata": {},
     "output_type": "execute_result"
    }
   ],
   "source": [
    "df.count()"
   ]
  },
  {
   "cell_type": "markdown",
   "id": "e95c21da",
   "metadata": {},
   "source": [
    "**Verificar os tipos de dados em cada coluna**"
   ]
  },
  {
   "cell_type": "code",
   "execution_count": 87,
   "id": "102c9390",
   "metadata": {},
   "outputs": [
    {
     "name": "stdout",
     "output_type": "stream",
     "text": [
      "root\n",
      " |-- Label: string (nullable = true)\n",
      " |-- Proto: string (nullable = true)\n",
      " |-- Sport: string (nullable = true)\n",
      " |-- Dir: string (nullable = true)\n",
      " |-- Dport: string (nullable = true)\n",
      " |-- State: string (nullable = true)\n",
      " |-- Dur: double (nullable = true)\n",
      " |-- sTos: integer (nullable = true)\n",
      " |-- dTos: integer (nullable = true)\n",
      " |-- TotPkts: integer (nullable = true)\n",
      " |-- TotBytes: integer (nullable = true)\n",
      " |-- SrcBytes: integer (nullable = true)\n",
      "\n"
     ]
    }
   ],
   "source": [
    "df.printSchema()"
   ]
  },
  {
   "cell_type": "markdown",
   "id": "383c37e8",
   "metadata": {},
   "source": [
    "**Remonear colunas**"
   ]
  },
  {
   "cell_type": "code",
   "execution_count": 88,
   "id": "e37bbca0",
   "metadata": {},
   "outputs": [
    {
     "name": "stdout",
     "output_type": "stream",
     "text": [
      "+----------+---------+-----------+-------+------------+--------+-----------+----+----+-------+--------+--------+\n",
      "|    Rotulo|protocolo|PortaOrigem|Direcao|PortaDestino|  Estado|    Duracao|sTos|dTos|TotPkts|TotBytes|SrcBytes|\n",
      "+----------+---------+-----------+-------+------------+--------+-----------+----+----+-------+--------+--------+\n",
      "|Background|      udp|      60621|    <->|       63550|     CON| 2752.65625|   0|   0|      3|     435|     290|\n",
      "|Background|      udp|      51413|    <->|       63550|     CON|1849.315552|   0|   0|      3|     417|     272|\n",
      "|Background|      udp|      63195|    <->|       63550|     CON|2091.747314|   0|   0|      2|     290|     145|\n",
      "|Background|      udp|      39110|    <->|       63550|     CON|1535.769409|   0|   0|      2|     290|     145|\n",
      "|Background|      tcp|      33426|    <?>|       25443|FRPA_FPA|   0.002636|   0|   0|      6|     490|     321|\n",
      "|Background|      udp|      41915|    <->|       43087|     CON|   72.43679|   0|   0|  23849|24298138|  509912|\n",
      "|Background|      tcp|      42020|    <?>|         993|   PA_PA|3599.473633|   0|   0|    543|   98018|   33640|\n",
      "|Background|      tcp|      49190|    <?>|          80|   A_FPA|  28.152548|   0|   0|    222|  191281|    6610|\n",
      "|Background|      tcp|      51287|    <?>|       31002| FPA_FPA| 632.001648|   0|   0|  15347| 2542390| 2237911|\n",
      "|Background|      udp|      31002|    <->|       49621|     CON| 628.915222|   0|   0|   9464| 2024974| 2022958|\n",
      "|Background|      udp|      39051|     ->|        1153|     INT|    1.77E-4|   0|null|      1|     145|     145|\n",
      "|Background|     icmp|     0x0303|     ->|      0x8104|     URP|        0.0|   0|null|      1|     173|     173|\n",
      "|Background|      tcp|      53389|    <?>|       48190| RPA_FPA|1315.114136|   0|   0|  59405|24973123|21487780|\n",
      "|Background|      tcp|         80|    <?>|        2774|  FPA_FA|  450.40683|   0|   0|  85347|97405130|96357830|\n",
      "|Background|      tcp|       8000|    <?>|        3978|  PA_FRA| 123.438812|   0|   0|   4238| 4189542| 4104702|\n",
      "|Background|      tcp|       2828|     ->|          80|FPA_FSPA|   0.069355|   0|   0|      7|    1202|     739|\n",
      "|Background|      udp|      31011|    <->|       43087|     CON| 118.675606|   0|   0|   4788| 5009469|   97163|\n",
      "|Background|      tcp|         80|    <?>|       56949|    PA_A|3599.978271|   0|   0| 100926|64254705|61869003|\n",
      "|Background|      tcp|      48761|    <?>|        8000|    A_PA|3599.985596|   0|   0| 112824|93703863| 3076176|\n",
      "|Background|      udp|      54176|    <->|       13363|     CON|2421.037842|   0|   0|     11|    1451|    1091|\n",
      "+----------+---------+-----------+-------+------------+--------+-----------+----+----+-------+--------+--------+\n",
      "only showing top 20 rows\n",
      "\n"
     ]
    }
   ],
   "source": [
    "df = df.withColumnRenamed('Proto','protocolo').withColumnRenamed('Sport','PortaOrigem').withColumnRenamed('Dir','Direcao')\\\n",
    "        .withColumnRenamed('Dport','PortaDestino').withColumnRenamed('State','Estado').withColumnRenamed('Dur','Duracao')\\\n",
    "        .withColumnRenamed('Label',\"Rotulo\")\n",
    "df.show()"
   ]
  },
  {
   "cell_type": "markdown",
   "id": "701eb364",
   "metadata": {},
   "source": [
    "**Mostrar Nomes das Colunas**"
   ]
  },
  {
   "cell_type": "code",
   "execution_count": 89,
   "id": "3b8e0c9d",
   "metadata": {},
   "outputs": [
    {
     "data": {
      "text/plain": [
       "['Rotulo',\n",
       " 'protocolo',\n",
       " 'PortaOrigem',\n",
       " 'Direcao',\n",
       " 'PortaDestino',\n",
       " 'Estado',\n",
       " 'Duracao',\n",
       " 'sTos',\n",
       " 'dTos',\n",
       " 'TotPkts',\n",
       " 'TotBytes',\n",
       " 'SrcBytes']"
      ]
     },
     "execution_count": 89,
     "metadata": {},
     "output_type": "execute_result"
    }
   ],
   "source": [
    "df.columns"
   ]
  },
  {
   "cell_type": "code",
   "execution_count": null,
   "id": "d5a64a0a",
   "metadata": {},
   "outputs": [],
   "source": [
    "    "
   ]
  },
  {
   "cell_type": "markdown",
   "id": "9c0e2aeb",
   "metadata": {},
   "source": [
    "**Selecionar Colunas, atribuir ao novo datafreme**"
   ]
  },
  {
   "cell_type": "code",
   "execution_count": 90,
   "id": "f73d592e",
   "metadata": {},
   "outputs": [
    {
     "name": "stdout",
     "output_type": "stream",
     "text": [
      "+-----------+---------+-----------+-------+------------+--------+----+----+-------+--------+--------+----------+\n",
      "|    Duracao|protocolo|PortaOrigem|Direcao|PortaDestino|  Estado|sTos|dTos|TotPkts|TotBytes|SrcBytes|    Rotulo|\n",
      "+-----------+---------+-----------+-------+------------+--------+----+----+-------+--------+--------+----------+\n",
      "| 2752.65625|      udp|      60621|    <->|       63550|     CON|   0|   0|      3|     435|     290|Background|\n",
      "|1849.315552|      udp|      51413|    <->|       63550|     CON|   0|   0|      3|     417|     272|Background|\n",
      "|2091.747314|      udp|      63195|    <->|       63550|     CON|   0|   0|      2|     290|     145|Background|\n",
      "|1535.769409|      udp|      39110|    <->|       63550|     CON|   0|   0|      2|     290|     145|Background|\n",
      "|   0.002636|      tcp|      33426|    <?>|       25443|FRPA_FPA|   0|   0|      6|     490|     321|Background|\n",
      "+-----------+---------+-----------+-------+------------+--------+----+----+-------+--------+--------+----------+\n",
      "only showing top 5 rows\n",
      "\n"
     ]
    }
   ],
   "source": [
    "df = df.select(f.col('Duracao'),f.col('protocolo'),f.col('PortaOrigem'),f.col('Direcao'),f.col('PortaDestino'),f.col('Estado')\\\n",
    "         ,f.col('sTos'),f.col('dTos'),f.col('TotPkts'),f.col('TotBytes'),f.col('SrcBytes'),f.col('Rotulo'))\n",
    "\n",
    "df.show(5)"
   ]
  },
  {
   "cell_type": "markdown",
   "id": "c3a1036c",
   "metadata": {},
   "source": [
    "**Alterar o tipo de dados**"
   ]
  },
  {
   "cell_type": "code",
   "execution_count": 91,
   "id": "b27fc9a2",
   "metadata": {},
   "outputs": [
    {
     "name": "stdout",
     "output_type": "stream",
     "text": [
      "root\n",
      " |-- Duracao: double (nullable = true)\n",
      " |-- protocolo: string (nullable = true)\n",
      " |-- PortaOrigem: string (nullable = true)\n",
      " |-- Direcao: string (nullable = true)\n",
      " |-- PortaDestino: string (nullable = true)\n",
      " |-- Estado: string (nullable = true)\n",
      " |-- sTos: integer (nullable = true)\n",
      " |-- dTos: integer (nullable = true)\n",
      " |-- TotPkts: integer (nullable = true)\n",
      " |-- TotBytes: integer (nullable = true)\n",
      " |-- SrcBytes: integer (nullable = true)\n",
      " |-- Rotulo: string (nullable = true)\n",
      "\n"
     ]
    }
   ],
   "source": [
    "df.printSchema()"
   ]
  },
  {
   "cell_type": "code",
   "execution_count": 93,
   "id": "61f83f63",
   "metadata": {},
   "outputs": [
    {
     "name": "stdout",
     "output_type": "stream",
     "text": [
      "root\n",
      " |-- Duracao: double (nullable = true)\n",
      " |-- protocolo: string (nullable = true)\n",
      " |-- PortaOrigem: integer (nullable = true)\n",
      " |-- Direcao: string (nullable = true)\n",
      " |-- PortaDestino: integer (nullable = true)\n",
      " |-- Estado: string (nullable = true)\n",
      " |-- sTos: integer (nullable = true)\n",
      " |-- dTos: integer (nullable = true)\n",
      " |-- TotPkts: integer (nullable = true)\n",
      " |-- TotBytes: integer (nullable = true)\n",
      " |-- SrcBytes: integer (nullable = true)\n",
      " |-- Rotulo: string (nullable = true)\n",
      "\n"
     ]
    }
   ],
   "source": [
    "df = df.withColumn('PortaOrigem',f.col('Portaorigem').cast(t.IntegerType()))\\\n",
    "        .withColumn('PortaDestino',f.col('PortaDestino').cast(t.IntegerType()))\n",
    "\n",
    "df.printSchema()"
   ]
  },
  {
   "cell_type": "markdown",
   "id": "3982c243",
   "metadata": {},
   "source": [
    "**Tratando Valores Nulos / dados faltante**"
   ]
  },
  {
   "cell_type": "markdown",
   "id": "d62bafb9",
   "metadata": {},
   "source": [
    "**Verificar Valores Nulos em cada coluna {Nome_coluna : Qtd de Valores nulos}**"
   ]
  },
  {
   "cell_type": "code",
   "execution_count": 94,
   "id": "6457e86d",
   "metadata": {},
   "outputs": [
    {
     "name": "stdout",
     "output_type": "stream",
     "text": [
      "Duracao  :  0\n",
      "protocolo  :  0\n",
      "PortaOrigem  :  135176\n",
      "Direcao  :  0\n",
      "PortaDestino  :  135709\n",
      "Estado  :  1228\n",
      "sTos  :  12852\n",
      "dTos  :  186791\n",
      "TotPkts  :  0\n",
      "TotBytes  :  0\n",
      "SrcBytes  :  0\n",
      "Rotulo  :  0\n"
     ]
    }
   ],
   "source": [
    "for coluna in df.columns:\n",
    "    print(coluna,\" : \", df.filter(df[coluna].isNull()).count())"
   ]
  },
  {
   "cell_type": "markdown",
   "id": "57b0c3a6",
   "metadata": {},
   "source": [
    "**Preencher Valores nulos apartir do calculo da moda (a frequencia dos dados)**"
   ]
  },
  {
   "cell_type": "code",
   "execution_count": 95,
   "id": "2bd410bc",
   "metadata": {},
   "outputs": [
    {
     "name": "stdout",
     "output_type": "stream",
     "text": [
      "Nome da coluna : O valor com maior frequencia (Moda)\n",
      "PortaOrigem  :  13363\n",
      "PortaDestino  :  53\n",
      "Estado  :  CON\n",
      "sTos  :  0\n",
      "dTos  :  0\n"
     ]
    }
   ],
   "source": [
    "# A impressao dos valores eh so para mostrar qual eh o valor mais frequente (a moda) em cda uma das colunas que posuem dados nulos\n",
    "print(\"Nome da coluna : O valor com maior frequencia (Moda)\")\n",
    "\n",
    "for coluna in df.columns:\n",
    "    if df.filter(df[coluna].isNull()).count() != 0:\n",
    "        count_mode_val = df.groupBy(coluna).count().filter(f.col(coluna).isNotNull())\\\n",
    "                            .agg(f.max(\"count\")).collect()[0][0]\n",
    "        mode_val = df.groupBy(coluna).count().filter(f.col(coluna).isNotNull())\\\n",
    "                            .filter(f.col(\"count\") == count_mode_val).select(coluna).collect()[0][0]\n",
    "\n",
    "        print(coluna,\" : \", mode_val)\n",
    "        df=df.na.fill(mode_val,subset=[coluna])"
   ]
  },
  {
   "cell_type": "code",
   "execution_count": null,
   "id": "1d63a1a5",
   "metadata": {},
   "outputs": [],
   "source": []
  },
  {
   "cell_type": "markdown",
   "id": "66131df3",
   "metadata": {},
   "source": [
    "**Verificando Novamente Valores nulos**"
   ]
  },
  {
   "cell_type": "code",
   "execution_count": 96,
   "id": "65aa47e9",
   "metadata": {},
   "outputs": [
    {
     "name": "stdout",
     "output_type": "stream",
     "text": [
      "Duracao  :  0\n",
      "protocolo  :  0\n",
      "PortaOrigem  :  0\n",
      "Direcao  :  0\n",
      "PortaDestino  :  0\n",
      "Estado  :  0\n",
      "sTos  :  0\n",
      "dTos  :  0\n",
      "TotPkts  :  0\n",
      "TotBytes  :  0\n",
      "SrcBytes  :  0\n",
      "Rotulo  :  0\n"
     ]
    }
   ],
   "source": [
    "for coluna in df.columns:\n",
    "    print(coluna,\" : \", df.filter(df[coluna].isNull()).count())"
   ]
  },
  {
   "cell_type": "markdown",
   "id": "ec27b71e",
   "metadata": {},
   "source": [
    "**Tratando dados ruidosos** "
   ]
  },
  {
   "cell_type": "code",
   "execution_count": 97,
   "id": "a0ef23eb",
   "metadata": {},
   "outputs": [
    {
     "name": "stdout",
     "output_type": "stream",
     "text": [
      "+--------+\n",
      "|count(1)|\n",
      "+--------+\n",
      "| 1309791|\n",
      "+--------+\n",
      "\n"
     ]
    }
   ],
   "source": [
    "df.createOrReplaceTempView(\"tabela\")\n",
    "spark.sql(\"SELECT count(*) from tabela\").show()"
   ]
  },
  {
   "cell_type": "code",
   "execution_count": 98,
   "id": "756d6f29",
   "metadata": {},
   "outputs": [
    {
     "name": "stdout",
     "output_type": "stream",
     "text": [
      "+-----------+\n",
      "|    Duracao|\n",
      "+-----------+\n",
      "|    7.18E-4|\n",
      "|3017.522949|\n",
      "| 3552.17749|\n",
      "| 416.194489|\n",
      "|     7.5E-4|\n",
      "|  516.55481|\n",
      "| 114.511345|\n",
      "|    0.00195|\n",
      "|   0.059421|\n",
      "|3228.565918|\n",
      "| 244.545197|\n",
      "| 309.717377|\n",
      "|    3.71E-4|\n",
      "|    0.19075|\n",
      "|   1.511531|\n",
      "|   0.179585|\n",
      "|   0.001894|\n",
      "|  16.983456|\n",
      "|3376.620605|\n",
      "|3096.484131|\n",
      "+-----------+\n",
      "only showing top 20 rows\n",
      "\n"
     ]
    }
   ],
   "source": [
    "spark.sql(\"SELECT DISTINCT Duracao from tabela\").show()"
   ]
  },
  {
   "cell_type": "code",
   "execution_count": 99,
   "id": "2d5c8e64",
   "metadata": {},
   "outputs": [
    {
     "name": "stdout",
     "output_type": "stream",
     "text": [
      "+-----------+\n",
      "|PortaOrigem|\n",
      "+-----------+\n",
      "|       1238|\n",
      "|      53565|\n",
      "|      53963|\n",
      "|       4935|\n",
      "|      35820|\n",
      "|      43527|\n",
      "|      13840|\n",
      "|      37111|\n",
      "|      63155|\n",
      "|       6620|\n",
      "|      44822|\n",
      "|      29894|\n",
      "|      53634|\n",
      "|      49717|\n",
      "|      20924|\n",
      "|      50348|\n",
      "|       2866|\n",
      "|      57201|\n",
      "|      23336|\n",
      "|      35361|\n",
      "+-----------+\n",
      "only showing top 20 rows\n",
      "\n"
     ]
    }
   ],
   "source": [
    "spark.sql(\"SELECT DISTINCT PortaOrigem from tabela\").show()"
   ]
  },
  {
   "cell_type": "code",
   "execution_count": 100,
   "id": "7f9ea606",
   "metadata": {},
   "outputs": [
    {
     "name": "stdout",
     "output_type": "stream",
     "text": [
      "+-------+\n",
      "|Direcao|\n",
      "+-------+\n",
      "|who    |\n",
      "|?>     |\n",
      "|<->    |\n",
      "|<?>    |\n",
      "|<-     |\n",
      "|->     |\n",
      "+-------+\n",
      "\n"
     ]
    }
   ],
   "source": [
    "spark.sql(\"SELECT DISTINCT Direcao from tabela\").show(truncate=False)"
   ]
  },
  {
   "cell_type": "markdown",
   "id": "4d7b6938",
   "metadata": {},
   "source": [
    "**O Uso da funcao do replace do spark foi necessaria para tratar dados ruidosos na coluna Direcao**\n",
    "Tratandosse de dados bidirecional, a coluna deveria ter direcao para duplo sentido, sentido esquedo e direito"
   ]
  },
  {
   "cell_type": "code",
   "execution_count": 101,
   "id": "9516cb1e",
   "metadata": {},
   "outputs": [],
   "source": [
    "# Funcao replace do sql\n",
    "\n",
    "df=spark.sql(\"SELECT Duracao, protocolo, PortaOrigem, REPLACE(Direcao, '?', '-') as Direcao, PortaDestino, Estado\\\n",
    "            ,sTos, dTos, TotPkts, TotBytes, SrcBytes, Rotulo  from tabela\")"
   ]
  },
  {
   "cell_type": "code",
   "execution_count": 102,
   "id": "28393916",
   "metadata": {},
   "outputs": [
    {
     "name": "stdout",
     "output_type": "stream",
     "text": [
      "+-------+\n",
      "|Direcao|\n",
      "+-------+\n",
      "|who    |\n",
      "|<->    |\n",
      "|<-     |\n",
      "|->     |\n",
      "+-------+\n",
      "\n"
     ]
    }
   ],
   "source": [
    "df.createOrReplaceTempView(\"tabela\")\n",
    "spark.sql(\"SELECT DISTINCT Direcao from tabela\").show(truncate=False)"
   ]
  },
  {
   "cell_type": "code",
   "execution_count": 103,
   "id": "4d307f23",
   "metadata": {},
   "outputs": [
    {
     "name": "stdout",
     "output_type": "stream",
     "text": [
      "+-------+\n",
      "|Direcao|\n",
      "+-------+\n",
      "|<->    |\n",
      "|<-     |\n",
      "|->     |\n",
      "+-------+\n",
      "\n"
     ]
    }
   ],
   "source": [
    "df=df.withColumn('Direcao', f.regexp_replace('Direcao','who','<->'))\n",
    "df.createOrReplaceTempView(\"tabela\")\n",
    "spark.sql(\"SELECT DISTINCT Direcao from tabela\").show(truncate=False)"
   ]
  },
  {
   "cell_type": "markdown",
   "id": "e82a46f3",
   "metadata": {},
   "source": [
    "**Elimanar linhas repetidas - a funcao distintct() e a dropDuplicates() (quando nao passado nenhum parametro funcianam da mesma maneira, eliminanam linhas repetidas e retornam um novo datafreme)**"
   ]
  },
  {
   "cell_type": "code",
   "execution_count": 104,
   "id": "59d5111f",
   "metadata": {},
   "outputs": [
    {
     "data": {
      "text/plain": [
       "1309791"
      ]
     },
     "execution_count": 104,
     "metadata": {},
     "output_type": "execute_result"
    }
   ],
   "source": [
    "#Total de linhas antes da eliminacao de linhas duplicadas \n",
    "df.count()"
   ]
  },
  {
   "cell_type": "code",
   "execution_count": 105,
   "id": "070c1c25",
   "metadata": {},
   "outputs": [
    {
     "name": "stdout",
     "output_type": "stream",
     "text": [
      "+----------+\n",
      "|sum(count)|\n",
      "+----------+\n",
      "|    125547|\n",
      "+----------+\n",
      "\n"
     ]
    }
   ],
   "source": [
    "# Contar linhas duplicadas \n",
    "\n",
    "df.groupBy(df.columns).count().where(f.col('count') > 1).select(f.sum('count')).show()"
   ]
  },
  {
   "cell_type": "code",
   "execution_count": 106,
   "id": "32b7fa0a",
   "metadata": {},
   "outputs": [
    {
     "data": {
      "text/plain": [
       "1189304"
      ]
     },
     "execution_count": 106,
     "metadata": {},
     "output_type": "execute_result"
    }
   ],
   "source": [
    "# Total de linhas depois de eliminacao de duplicatas\n",
    "df.dropDuplicates().count()"
   ]
  },
  {
   "cell_type": "code",
   "execution_count": 107,
   "id": "447c6452",
   "metadata": {},
   "outputs": [],
   "source": [
    "df=df.dropDuplicates()"
   ]
  },
  {
   "cell_type": "code",
   "execution_count": null,
   "id": "3bef2da6",
   "metadata": {},
   "outputs": [],
   "source": []
  },
  {
   "cell_type": "markdown",
   "id": "9beffb4e",
   "metadata": {},
   "source": [
    "# Continuacao de preprocessamento - Etapa de Transformacao de dados e Mineracao (aplicando algoritmos de machine learning)"
   ]
  },
  {
   "cell_type": "markdown",
   "id": "48160b10",
   "metadata": {},
   "source": [
    "Creando indice para para as variaveis categoricas "
   ]
  },
  {
   "cell_type": "code",
   "execution_count": 108,
   "id": "57cc88d7",
   "metadata": {},
   "outputs": [],
   "source": [
    "#Novo datafreme para criacao de modelos \n",
    "dfparamodelos = df"
   ]
  },
  {
   "cell_type": "code",
   "execution_count": 109,
   "id": "5d573aab",
   "metadata": {},
   "outputs": [
    {
     "name": "stdout",
     "output_type": "stream",
     "text": [
      "root\n",
      " |-- Duracao: double (nullable = true)\n",
      " |-- protocolo: string (nullable = true)\n",
      " |-- PortaOrigem: integer (nullable = true)\n",
      " |-- Direcao: string (nullable = true)\n",
      " |-- PortaDestino: integer (nullable = true)\n",
      " |-- Estado: string (nullable = false)\n",
      " |-- sTos: integer (nullable = true)\n",
      " |-- dTos: integer (nullable = true)\n",
      " |-- TotPkts: integer (nullable = true)\n",
      " |-- TotBytes: integer (nullable = true)\n",
      " |-- SrcBytes: integer (nullable = true)\n",
      " |-- Rotulo: string (nullable = true)\n",
      "\n"
     ]
    }
   ],
   "source": [
    "dfparamodelos.printSchema()"
   ]
  },
  {
   "cell_type": "code",
   "execution_count": 110,
   "id": "d0d62399",
   "metadata": {},
   "outputs": [],
   "source": [
    "# criar o objeto da classe StringIndexer com especificacao da coluna de entrada e saída (transformar dados categoricos em numericos continuos para criacao de modelos)\n",
    "SI_protocolo = StringIndexer(inputCol='protocolo',outputCol='protocolo_index')\n",
    "SI_direcao = StringIndexer(inputCol='Direcao',outputCol='Direcao_index')\n",
    "SI_estado = StringIndexer(inputCol='Estado',outputCol='Estado_index')\n",
    "SI_rotulo = StringIndexer(inputCol='Rotulo',outputCol='rotulo_index')"
   ]
  },
  {
   "cell_type": "code",
   "execution_count": 111,
   "id": "7413ee78",
   "metadata": {},
   "outputs": [],
   "source": [
    "# Aplicando a funcao transfoma(df), nos objectos criados \n",
    "dfparamodelos = SI_protocolo.fit(dfparamodelos).transform(dfparamodelos)\n",
    "dfparamodelos = SI_direcao.fit(dfparamodelos).transform(dfparamodelos)\n",
    "dfparamodelos = SI_estado.fit(dfparamodelos).transform(dfparamodelos)\n",
    "dfparamodelos = SI_rotulo.fit(dfparamodelos).transform(dfparamodelos)"
   ]
  },
  {
   "cell_type": "code",
   "execution_count": 112,
   "id": "75ae53d4",
   "metadata": {},
   "outputs": [
    {
     "data": {
      "text/plain": [
       "['Duracao',\n",
       " 'protocolo',\n",
       " 'PortaOrigem',\n",
       " 'Direcao',\n",
       " 'PortaDestino',\n",
       " 'Estado',\n",
       " 'sTos',\n",
       " 'dTos',\n",
       " 'TotPkts',\n",
       " 'TotBytes',\n",
       " 'SrcBytes',\n",
       " 'Rotulo',\n",
       " 'protocolo_index',\n",
       " 'Direcao_index',\n",
       " 'Estado_index',\n",
       " 'rotulo_index']"
      ]
     },
     "execution_count": 112,
     "metadata": {},
     "output_type": "execute_result"
    }
   ],
   "source": [
    "dfparamodelos.columns"
   ]
  },
  {
   "cell_type": "code",
   "execution_count": 113,
   "id": "5f3e1c85",
   "metadata": {},
   "outputs": [],
   "source": [
    "#vector assembler\n",
    "assembler = VectorAssembler( inputCols=['Duracao','protocolo_index','PortaOrigem'\\\n",
    "                                        ,'Direcao_index','PortaDestino','Estado_index'\\\n",
    "                                        ,'sTos','dTos','TotPkts','TotBytes','SrcBytes']\\\n",
    "                            ,outputCol='features')"
   ]
  },
  {
   "cell_type": "code",
   "execution_count": 114,
   "id": "4cbc3d87",
   "metadata": {},
   "outputs": [
    {
     "name": "stdout",
     "output_type": "stream",
     "text": [
      "+-----------+---------+-----------+-------+------------+------+----+----+-------+--------+--------+----------+---------------+-------------+------------+------------+--------------------+\n",
      "|    Duracao|protocolo|PortaOrigem|Direcao|PortaDestino|Estado|sTos|dTos|TotPkts|TotBytes|SrcBytes|    Rotulo|protocolo_index|Direcao_index|Estado_index|rotulo_index|            features|\n",
      "+-----------+---------+-----------+-------+------------+------+----+----+-------+--------+--------+----------+---------------+-------------+------------+------------+--------------------+\n",
      "|   0.126376|      udp|      61043|    <->|          53|   CON|   0|   0|      2|     304|      75|Background|            0.0|          0.0|         0.0|         0.0|(11,[0,2,4,8,9,10...|\n",
      "|2465.262207|      udp|      49814|    <->|       13363|   CON|   0|   0|     30|    1995|    1095|Background|            0.0|          0.0|         0.0|         0.0|(11,[0,2,4,8,9,10...|\n",
      "|   0.367005|      udp|      13363|    <->|       29342|   CON|   0|   0|      3|    2849|      60|Background|            0.0|          0.0|         0.0|         0.0|(11,[0,2,4,8,9,10...|\n",
      "+-----------+---------+-----------+-------+------------+------+----+----+-------+--------+--------+----------+---------------+-------------+------------+------------+--------------------+\n",
      "only showing top 3 rows\n",
      "\n"
     ]
    }
   ],
   "source": [
    "dfmodel = assembler.transform(dfparamodelos)\n",
    "dfmodel.show(3)"
   ]
  },
  {
   "cell_type": "code",
   "execution_count": 115,
   "id": "0e5ae638",
   "metadata": {},
   "outputs": [],
   "source": [
    "dfmodel = dfmodel.select(f.col('features'),f.col('rotulo_index')).withColumnRenamed('rotulo_index','label')"
   ]
  },
  {
   "cell_type": "code",
   "execution_count": 116,
   "id": "858fdd17",
   "metadata": {},
   "outputs": [
    {
     "name": "stdout",
     "output_type": "stream",
     "text": [
      "+--------------------------------------------------------------------+-----+\n",
      "|features                                                            |label|\n",
      "+--------------------------------------------------------------------+-----+\n",
      "|(11,[0,2,4,8,9,10],[0.126376,61043.0,53.0,2.0,304.0,75.0])          |0.0  |\n",
      "|(11,[0,2,4,8,9,10],[2465.262207,49814.0,13363.0,30.0,1995.0,1095.0])|0.0  |\n",
      "|(11,[0,2,4,8,9,10],[0.367005,13363.0,29342.0,3.0,2849.0,60.0])      |0.0  |\n",
      "+--------------------------------------------------------------------+-----+\n",
      "only showing top 3 rows\n",
      "\n"
     ]
    }
   ],
   "source": [
    "dfmodel.show(3,truncate=False)"
   ]
  },
  {
   "cell_type": "code",
   "execution_count": 117,
   "id": "47a970d0",
   "metadata": {},
   "outputs": [],
   "source": [
    "#Padronizacao dos dados (Remocao outiliers)\n",
    "from pyspark.ml.feature import StandardScaler "
   ]
  },
  {
   "cell_type": "code",
   "execution_count": 118,
   "id": "b80c7d3f",
   "metadata": {},
   "outputs": [],
   "source": [
    "#Padronizacao dos dados (Remocao de outiliers)\n",
    "\n",
    "standerscaler = StandardScaler().setInputCol('features').setOutputCol('scaled_features')\n",
    "dfmodeldado = standerscaler.fit(dfmodel).transform(dfmodel)"
   ]
  },
  {
   "cell_type": "code",
   "execution_count": 119,
   "id": "f3290de3",
   "metadata": {},
   "outputs": [
    {
     "name": "stdout",
     "output_type": "stream",
     "text": [
      "+--------------------+-----+--------------------+\n",
      "|            features|label|     scaled_features|\n",
      "+--------------------+-----+--------------------+\n",
      "|(11,[0,2,4,8,9,10...|  0.0|(11,[0,2,4,8,9,10...|\n",
      "|(11,[0,2,4,8,9,10...|  0.0|(11,[0,2,4,8,9,10...|\n",
      "|(11,[0,2,4,8,9,10...|  0.0|(11,[0,2,4,8,9,10...|\n",
      "+--------------------+-----+--------------------+\n",
      "only showing top 3 rows\n",
      "\n"
     ]
    }
   ],
   "source": [
    "dfmodeldado.show(3)"
   ]
  },
  {
   "cell_type": "code",
   "execution_count": 120,
   "id": "88712699",
   "metadata": {},
   "outputs": [
    {
     "name": "stdout",
     "output_type": "stream",
     "text": [
      "+------------------------------------------------------------------------------------------------------------------------------------------------+-----+\n",
      "|scaled_features                                                                                                                                 |label|\n",
      "+------------------------------------------------------------------------------------------------------------------------------------------------+-----+\n",
      "|(11,[0,2,4,8,9,10],[1.5741424291037878E-4,3.076349394402171,0.003941705495127226,4.31224717065669E-4,7.579836285365563E-5,5.699986857415242E-5])|0.0  |\n",
      "|(11,[0,2,4,8,9,10],[3.0707364047799786,2.5104478602419564,0.993830387384625,0.006468370755985035,4.974267562271151E-4,8.321980811826253E-4])    |0.0  |\n",
      "|(11,[0,2,4,8,9,10],[4.571422914107392E-4,0.6734475199023019,2.182217408264586,6.468370755985035E-4,7.103603150331083E-4,4.559989485932194E-5])  |0.0  |\n",
      "+------------------------------------------------------------------------------------------------------------------------------------------------+-----+\n",
      "only showing top 3 rows\n",
      "\n"
     ]
    }
   ],
   "source": [
    "dadomodel = dfmodeldado.select(f.col('scaled_features'),f.col('label'))\n",
    "dadomodel.show(3,truncate=False)"
   ]
  },
  {
   "cell_type": "code",
   "execution_count": null,
   "id": "debd205c",
   "metadata": {},
   "outputs": [],
   "source": []
  },
  {
   "cell_type": "code",
   "execution_count": 121,
   "id": "309f26b3",
   "metadata": {},
   "outputs": [],
   "source": [
    "#Dividir os dados para treino e teste (70% treino, 30% teste)\n",
    "df_treinamento,df_teste = dadomodel.randomSplit([0.7,0.3])"
   ]
  },
  {
   "cell_type": "code",
   "execution_count": 122,
   "id": "e9f33b67",
   "metadata": {},
   "outputs": [
    {
     "data": {
      "text/plain": [
       "832995"
      ]
     },
     "execution_count": 122,
     "metadata": {},
     "output_type": "execute_result"
    }
   ],
   "source": [
    "df_treinamento.count()"
   ]
  },
  {
   "cell_type": "code",
   "execution_count": 123,
   "id": "11bb19d8",
   "metadata": {},
   "outputs": [
    {
     "data": {
      "text/plain": [
       "356309"
      ]
     },
     "execution_count": 123,
     "metadata": {},
     "output_type": "execute_result"
    }
   ],
   "source": [
    "df_teste.count()"
   ]
  },
  {
   "cell_type": "code",
   "execution_count": null,
   "id": "0900975f",
   "metadata": {},
   "outputs": [],
   "source": []
  },
  {
   "cell_type": "markdown",
   "id": "d9d1da34",
   "metadata": {},
   "source": [
    "**Criacao dos modelos**"
   ]
  },
  {
   "cell_type": "code",
   "execution_count": null,
   "id": "7e3b6475",
   "metadata": {},
   "outputs": [],
   "source": []
  },
  {
   "cell_type": "markdown",
   "id": "5233f8fd",
   "metadata": {},
   "source": [
    "**Regressao Logistica**"
   ]
  },
  {
   "cell_type": "code",
   "execution_count": 124,
   "id": "4eddc7bb",
   "metadata": {},
   "outputs": [],
   "source": [
    "#Create a logistic regression model object\n",
    "\n",
    "log_reg=LogisticRegression(labelCol='label', featuresCol='scaled_features', maxIter=50)\n",
    "log_reg_Modelo=log_reg.fit(df_treinamento)\n",
    "\n"
   ]
  },
  {
   "cell_type": "code",
   "execution_count": 125,
   "id": "4bb410e9",
   "metadata": {},
   "outputs": [],
   "source": [
    "#teste dos modelo\n",
    "predicao_teste = log_reg_Modelo.transform(df_teste)\n"
   ]
  },
  {
   "cell_type": "code",
   "execution_count": 126,
   "id": "1c617bf1",
   "metadata": {},
   "outputs": [
    {
     "name": "stdout",
     "output_type": "stream",
     "text": [
      "+--------------------+-----+--------------------+--------------------+----------+\n",
      "|     scaled_features|label|       rawPrediction|         probability|prediction|\n",
      "+--------------------+-----+--------------------+--------------------+----------+\n",
      "|(11,[0,2,4,8,9,10...|  0.0|[4.09022638969780...|[0.98644101637473...|       0.0|\n",
      "|(11,[0,2,4,8,9,10...|  0.0|[4.08088448212009...|[0.98653266331523...|       0.0|\n",
      "|(11,[0,2,4,8,9,10...|  0.0|[4.18324118278243...|[0.98546273233407...|       0.0|\n",
      "+--------------------+-----+--------------------+--------------------+----------+\n",
      "only showing top 3 rows\n",
      "\n"
     ]
    }
   ],
   "source": [
    "predicao_teste.show(3)"
   ]
  },
  {
   "cell_type": "code",
   "execution_count": 127,
   "id": "c494f06d",
   "metadata": {},
   "outputs": [],
   "source": [
    "predicaorotulo=predicao_teste.select('label','prediction')"
   ]
  },
  {
   "cell_type": "code",
   "execution_count": 128,
   "id": "1ef267fc",
   "metadata": {},
   "outputs": [
    {
     "name": "stdout",
     "output_type": "stream",
     "text": [
      "Acuracia:  0.9767505171073422\n"
     ]
    }
   ],
   "source": [
    "Evaluator = MulticlassClassificationEvaluator(labelCol='label', predictionCol='prediction', metricName='accuracy')\n",
    "acuracia_LR = Evaluator.evaluate(predicaorotulo)\n",
    "\n",
    "print(\"Acuracia: \", acuracia_LR)"
   ]
  },
  {
   "cell_type": "code",
   "execution_count": 129,
   "id": "52ce1adb",
   "metadata": {},
   "outputs": [
    {
     "name": "stdout",
     "output_type": "stream",
     "text": [
      "Precisao:  0.9791317760507998\n"
     ]
    }
   ],
   "source": [
    "Evaluator = MulticlassClassificationEvaluator(labelCol='label', predictionCol='prediction', metricName='precisionByLabel')\n",
    "precisao_LR = Evaluator.evaluate(predicaorotulo)\n",
    "\n",
    "print(\"Precisao: \", precisao_LR)"
   ]
  },
  {
   "cell_type": "code",
   "execution_count": 130,
   "id": "9197be1a",
   "metadata": {},
   "outputs": [
    {
     "name": "stdout",
     "output_type": "stream",
     "text": [
      "Recal:  0.997777063888618\n"
     ]
    }
   ],
   "source": [
    "Evaluator = MulticlassClassificationEvaluator(labelCol='label', predictionCol='prediction', metricName='recallByLabel')\n",
    "recal_LR = Evaluator.evaluate(predicaorotulo)\n",
    "\n",
    "print(\"Recal: \", recal_LR)"
   ]
  },
  {
   "cell_type": "markdown",
   "id": "0fb8f6cf",
   "metadata": {},
   "source": [
    "**Naive Bayes**"
   ]
  },
  {
   "cell_type": "code",
   "execution_count": 131,
   "id": "9eb98159",
   "metadata": {},
   "outputs": [],
   "source": [
    "NB= NaiveBayes(labelCol='label',featuresCol='scaled_features', smoothing=1.0)\n",
    "modeloNB = NB.fit(df_treinamento)"
   ]
  },
  {
   "cell_type": "code",
   "execution_count": 132,
   "id": "ee9bafd6",
   "metadata": {},
   "outputs": [],
   "source": [
    "predicao_testeNB = modeloNB.transform(df_teste)"
   ]
  },
  {
   "cell_type": "code",
   "execution_count": 133,
   "id": "3ddba739",
   "metadata": {},
   "outputs": [
    {
     "name": "stdout",
     "output_type": "stream",
     "text": [
      "+--------------------+-----+--------------------+--------------------+----------+\n",
      "|     scaled_features|label|       rawPrediction|         probability|prediction|\n",
      "+--------------------+-----+--------------------+--------------------+----------+\n",
      "|(11,[0,2,4,8,9,10...|  0.0|[-1.4302049921824...|[0.98298395572165...|       0.0|\n",
      "|(11,[0,2,4,8,9,10...|  0.0|[-1.4016927945950...|[0.98304840831441...|       0.0|\n",
      "|(11,[0,2,4,8,9,10...|  0.0|[-1.7139935989226...|[0.98225557457903...|       0.0|\n",
      "+--------------------+-----+--------------------+--------------------+----------+\n",
      "only showing top 3 rows\n",
      "\n"
     ]
    }
   ],
   "source": [
    "predicao_testeNB.show(3)"
   ]
  },
  {
   "cell_type": "code",
   "execution_count": 134,
   "id": "2807a42f",
   "metadata": {},
   "outputs": [],
   "source": [
    "predicaorotuloNB=predicao_testeNB.select('label','prediction')"
   ]
  },
  {
   "cell_type": "code",
   "execution_count": 135,
   "id": "7b280655",
   "metadata": {},
   "outputs": [
    {
     "name": "stdout",
     "output_type": "stream",
     "text": [
      "Acuracia:  0.9658077679766719\n"
     ]
    }
   ],
   "source": [
    "Evaluator = MulticlassClassificationEvaluator(labelCol='label', predictionCol='prediction', metricName='accuracy')\n",
    "acuracia_NB = Evaluator.evaluate(predicaorotuloNB)\n",
    "\n",
    "print(\"Acuracia: \", acuracia_NB)"
   ]
  },
  {
   "cell_type": "code",
   "execution_count": 136,
   "id": "fdb49165",
   "metadata": {},
   "outputs": [
    {
     "name": "stdout",
     "output_type": "stream",
     "text": [
      "Precisao:  0.9862462610002457\n"
     ]
    }
   ],
   "source": [
    "Evaluator = MulticlassClassificationEvaluator(labelCol='label', predictionCol='prediction', metricName='precisionByLabel')\n",
    "precisao_NB = Evaluator.evaluate(predicaorotuloNB)\n",
    "\n",
    "print(\"Precisao: \", precisao_NB)"
   ]
  },
  {
   "cell_type": "code",
   "execution_count": 137,
   "id": "4c671bae",
   "metadata": {},
   "outputs": [
    {
     "name": "stdout",
     "output_type": "stream",
     "text": [
      "Recal:  0.9788261750010039\n"
     ]
    }
   ],
   "source": [
    "Evaluator = MulticlassClassificationEvaluator(labelCol='label', predictionCol='prediction', metricName='recallByLabel')\n",
    "recal_NB = Evaluator.evaluate(predicaorotuloNB)\n",
    "\n",
    "print(\"Recal: \", recal_NB)"
   ]
  },
  {
   "cell_type": "code",
   "execution_count": null,
   "id": "5a9c3798",
   "metadata": {},
   "outputs": [],
   "source": []
  },
  {
   "cell_type": "markdown",
   "id": "6ff6e203",
   "metadata": {},
   "source": [
    "**Decision tree**"
   ]
  },
  {
   "cell_type": "code",
   "execution_count": 138,
   "id": "e83c5a44",
   "metadata": {},
   "outputs": [],
   "source": [
    "# Train a DecisionTree model.\n",
    "dt = DecisionTreeClassifier(labelCol=\"label\", featuresCol=\"scaled_features\"\\\n",
    "                            ,impurity='gini', maxDepth=8, maxBins=32)\n",
    "\n"
   ]
  },
  {
   "cell_type": "code",
   "execution_count": 139,
   "id": "ad925087",
   "metadata": {},
   "outputs": [],
   "source": [
    "dtmodelo=dt.fit(df_treinamento)"
   ]
  },
  {
   "cell_type": "code",
   "execution_count": 140,
   "id": "2b5cf8ef",
   "metadata": {},
   "outputs": [],
   "source": [
    "predicao_testeDT = dtmodelo.transform(df_teste)"
   ]
  },
  {
   "cell_type": "code",
   "execution_count": 141,
   "id": "71f06d2b",
   "metadata": {},
   "outputs": [
    {
     "name": "stdout",
     "output_type": "stream",
     "text": [
      "+--------------------+-----+--------------------+--------------------+----------+\n",
      "|     scaled_features|label|       rawPrediction|         probability|prediction|\n",
      "+--------------------+-----+--------------------+--------------------+----------+\n",
      "|(11,[0,2,4,8,9,10...|  0.0|[39299.0,2117.0,0.0]|[0.94888448908634...|       0.0|\n",
      "|(11,[0,2,4,8,9,10...|  0.0|[39299.0,2117.0,0.0]|[0.94888448908634...|       0.0|\n",
      "|(11,[0,2,4,8,9,10...|  0.0|[170466.0,223.0,0.0]|[0.99869353033880...|       0.0|\n",
      "+--------------------+-----+--------------------+--------------------+----------+\n",
      "only showing top 3 rows\n",
      "\n"
     ]
    }
   ],
   "source": [
    "predicao_testeDT.show(3)"
   ]
  },
  {
   "cell_type": "code",
   "execution_count": null,
   "id": "23cb50f7",
   "metadata": {},
   "outputs": [],
   "source": []
  },
  {
   "cell_type": "code",
   "execution_count": 142,
   "id": "dc3d83a1",
   "metadata": {},
   "outputs": [],
   "source": [
    "predicaorotuloDT=predicao_testeDT.select('label','prediction')"
   ]
  },
  {
   "cell_type": "code",
   "execution_count": 143,
   "id": "b93c7415",
   "metadata": {},
   "outputs": [
    {
     "name": "stdout",
     "output_type": "stream",
     "text": [
      "Acuracia:  0.9889562149707136\n"
     ]
    }
   ],
   "source": [
    "Evaluator = MulticlassClassificationEvaluator(labelCol='label', predictionCol='prediction', metricName='accuracy')\n",
    "acuracia_DT = Evaluator.evaluate(predicaorotuloDT)\n",
    "\n",
    "print(\"Acuracia: \", acuracia_DT)"
   ]
  },
  {
   "cell_type": "code",
   "execution_count": 144,
   "id": "98bb26d3",
   "metadata": {},
   "outputs": [
    {
     "name": "stdout",
     "output_type": "stream",
     "text": [
      "Precisao:  0.9911712487068929\n"
     ]
    }
   ],
   "source": [
    "Evaluator = MulticlassClassificationEvaluator(labelCol='label', predictionCol='prediction', metricName='precisionByLabel')\n",
    "precisao_DT = Evaluator.evaluate(predicaorotuloDT)\n",
    "\n",
    "print(\"Precisao: \", precisao_DT)"
   ]
  },
  {
   "cell_type": "code",
   "execution_count": 145,
   "id": "1f73c5c6",
   "metadata": {},
   "outputs": [
    {
     "name": "stdout",
     "output_type": "stream",
     "text": [
      "Recal:  0.9975992289997074\n"
     ]
    }
   ],
   "source": [
    "Evaluator = MulticlassClassificationEvaluator(labelCol='label', predictionCol='prediction', metricName='recallByLabel')\n",
    "recal_DT = Evaluator.evaluate(predicaorotuloDT)\n",
    "\n",
    "print(\"Recal: \", recal_DT)"
   ]
  },
  {
   "cell_type": "code",
   "execution_count": null,
   "id": "f37155a3",
   "metadata": {},
   "outputs": [],
   "source": []
  },
  {
   "cell_type": "code",
   "execution_count": null,
   "id": "20d2fa2d",
   "metadata": {},
   "outputs": [],
   "source": []
  },
  {
   "cell_type": "code",
   "execution_count": null,
   "id": "09d401cf",
   "metadata": {},
   "outputs": [],
   "source": []
  },
  {
   "cell_type": "code",
   "execution_count": null,
   "id": "ac9fec5a",
   "metadata": {},
   "outputs": [],
   "source": []
  },
  {
   "cell_type": "markdown",
   "id": "32be375d",
   "metadata": {},
   "source": [
    "**Random Forest Classifier**"
   ]
  },
  {
   "cell_type": "code",
   "execution_count": 146,
   "id": "d469c1c6",
   "metadata": {},
   "outputs": [],
   "source": [
    "rfc = RandomForestClassifier(labelCol='label', featuresCol='scaled_features')\n"
   ]
  },
  {
   "cell_type": "code",
   "execution_count": 147,
   "id": "0dcbab83",
   "metadata": {},
   "outputs": [],
   "source": [
    "modeloRFC = rfc.fit(df_treinamento)"
   ]
  },
  {
   "cell_type": "code",
   "execution_count": 148,
   "id": "806b8265",
   "metadata": {},
   "outputs": [],
   "source": [
    "predicao_testeRFC=modeloRFC.transform(df_teste)"
   ]
  },
  {
   "cell_type": "code",
   "execution_count": 149,
   "id": "d03c9f69",
   "metadata": {},
   "outputs": [
    {
     "name": "stdout",
     "output_type": "stream",
     "text": [
      "+--------------------+-----+--------------------+--------------------+----------+\n",
      "|     scaled_features|label|       rawPrediction|         probability|prediction|\n",
      "+--------------------+-----+--------------------+--------------------+----------+\n",
      "|(11,[0,2,4,8,9,10...|  0.0|[19.6148821720350...|[0.98074410860175...|       0.0|\n",
      "|(11,[0,2,4,8,9,10...|  0.0|[19.6307835821788...|[0.98153917910894...|       0.0|\n",
      "|(11,[0,2,4,8,9,10...|  0.0|[19.7663078095324...|[0.98831539047662...|       0.0|\n",
      "+--------------------+-----+--------------------+--------------------+----------+\n",
      "only showing top 3 rows\n",
      "\n"
     ]
    }
   ],
   "source": [
    "predicao_testeRFC.show(3)"
   ]
  },
  {
   "cell_type": "code",
   "execution_count": null,
   "id": "ccb5ed21",
   "metadata": {},
   "outputs": [],
   "source": []
  },
  {
   "cell_type": "code",
   "execution_count": 150,
   "id": "09f60e4a",
   "metadata": {},
   "outputs": [],
   "source": [
    "predicaorotuloRFC=predicao_testeRFC.select('label','prediction')"
   ]
  },
  {
   "cell_type": "code",
   "execution_count": 151,
   "id": "fc4bc9ca",
   "metadata": {},
   "outputs": [
    {
     "name": "stdout",
     "output_type": "stream",
     "text": [
      "Acuracia:  0.9865594189313208\n"
     ]
    }
   ],
   "source": [
    "Evaluator = MulticlassClassificationEvaluator(labelCol='label', predictionCol='prediction', metricName='accuracy')\n",
    "acuracia_RFC = Evaluator.evaluate(predicaorotuloRFC)\n",
    "\n",
    "print(\"Acuracia: \", acuracia_RFC)"
   ]
  },
  {
   "cell_type": "code",
   "execution_count": 152,
   "id": "7b62ea15",
   "metadata": {},
   "outputs": [
    {
     "name": "stdout",
     "output_type": "stream",
     "text": [
      "Precisao:  0.9864993732155035\n"
     ]
    }
   ],
   "source": [
    "Evaluator = MulticlassClassificationEvaluator(labelCol='label', predictionCol='prediction', metricName='precisionByLabel')\n",
    "precisao_RFC = Evaluator.evaluate(predicaorotuloRFC)\n",
    "\n",
    "print(\"Precisao: \", precisao_RFC)"
   ]
  },
  {
   "cell_type": "code",
   "execution_count": 153,
   "id": "fb666f98",
   "metadata": {},
   "outputs": [
    {
     "name": "stdout",
     "output_type": "stream",
     "text": [
      "Recal:  0.9999483705161227\n"
     ]
    }
   ],
   "source": [
    "Evaluator = MulticlassClassificationEvaluator(labelCol='label', predictionCol='prediction', metricName='recallByLabel')\n",
    "recal_RFC = Evaluator.evaluate(predicaorotuloRFC)\n",
    "\n",
    "print(\"Recal: \", recal_RFC)"
   ]
  },
  {
   "cell_type": "code",
   "execution_count": null,
   "id": "fee4d96e",
   "metadata": {},
   "outputs": [],
   "source": []
  },
  {
   "cell_type": "code",
   "execution_count": null,
   "id": "58cd9504",
   "metadata": {},
   "outputs": [],
   "source": []
  },
  {
   "cell_type": "markdown",
   "id": "ffeb4d86",
   "metadata": {},
   "source": [
    "**CENARIO 11**"
   ]
  },
  {
   "cell_type": "code",
   "execution_count": 154,
   "id": "6df7c56e",
   "metadata": {},
   "outputs": [],
   "source": [
    "df = spark.read.csv('C:/Users/Belilo/Desktop/SparkJupyter/datasets/ctu13/cenario11.csv', header=True,inferSchema=True)"
   ]
  },
  {
   "cell_type": "code",
   "execution_count": 155,
   "id": "f7baf213",
   "metadata": {},
   "outputs": [
    {
     "name": "stdout",
     "output_type": "stream",
     "text": [
      "+----------+-----+-----+---+-----+-------+----------+----+----+-------+---------+--------+\n",
      "|     Label|Proto|Sport|Dir|Dport|  State|       Dur|sTos|dTos|TotPkts| TotBytes|SrcBytes|\n",
      "+----------+-----+-----+---+-----+-------+----------+----+----+-------+---------+--------+\n",
      "|Background|  tcp| 1078|<?>|   80|RPA_FPA| 83.062141|   0|   0|  43065| 40974671| 1033777|\n",
      "|Background|  tcp|13121|<?>|62860| RPA_PA|497.720459|   0|   0| 326962|132430976| 7076046|\n",
      "|Background|  tcp|   80|<?>| 3088|   PA_A|971.288147|   0|   0|   7912|  7356876| 7153650|\n",
      "|Background|  tcp|54518|<?>|  993|  PA_PA|899.996399|   0|   0|     48|     5728|    3008|\n",
      "|Background|  tcp|19083| ?>| 2185|   RPA_| 38.753445|   0|null|      7|      456|     456|\n",
      "+----------+-----+-----+---+-----+-------+----------+----+----+-------+---------+--------+\n",
      "only showing top 5 rows\n",
      "\n"
     ]
    }
   ],
   "source": [
    "df.show(5)"
   ]
  },
  {
   "cell_type": "markdown",
   "id": "ee4eb16f",
   "metadata": {},
   "source": [
    "**Contar todos dados do datset**\n"
   ]
  },
  {
   "cell_type": "code",
   "execution_count": 156,
   "id": "ba92c93c",
   "metadata": {},
   "outputs": [
    {
     "data": {
      "text/plain": [
       "107251"
      ]
     },
     "execution_count": 156,
     "metadata": {},
     "output_type": "execute_result"
    }
   ],
   "source": [
    "df.count()"
   ]
  },
  {
   "cell_type": "markdown",
   "id": "6a55a956",
   "metadata": {},
   "source": [
    "**Verificar os tipos de dados em cada coluna**"
   ]
  },
  {
   "cell_type": "code",
   "execution_count": 157,
   "id": "23d61118",
   "metadata": {},
   "outputs": [
    {
     "name": "stdout",
     "output_type": "stream",
     "text": [
      "root\n",
      " |-- Label: string (nullable = true)\n",
      " |-- Proto: string (nullable = true)\n",
      " |-- Sport: string (nullable = true)\n",
      " |-- Dir: string (nullable = true)\n",
      " |-- Dport: string (nullable = true)\n",
      " |-- State: string (nullable = true)\n",
      " |-- Dur: double (nullable = true)\n",
      " |-- sTos: integer (nullable = true)\n",
      " |-- dTos: integer (nullable = true)\n",
      " |-- TotPkts: integer (nullable = true)\n",
      " |-- TotBytes: integer (nullable = true)\n",
      " |-- SrcBytes: integer (nullable = true)\n",
      "\n"
     ]
    }
   ],
   "source": [
    "df.printSchema()"
   ]
  },
  {
   "cell_type": "markdown",
   "id": "3f0940e4",
   "metadata": {},
   "source": [
    "**Remonear colunas**"
   ]
  },
  {
   "cell_type": "code",
   "execution_count": 158,
   "id": "25654adb",
   "metadata": {},
   "outputs": [
    {
     "name": "stdout",
     "output_type": "stream",
     "text": [
      "+----------+---------+-----------+-------+------------+-------+----------+----+----+-------+---------+--------+\n",
      "|    Rotulo|protocolo|PortaOrigem|Direcao|PortaDestino| Estado|   Duracao|sTos|dTos|TotPkts| TotBytes|SrcBytes|\n",
      "+----------+---------+-----------+-------+------------+-------+----------+----+----+-------+---------+--------+\n",
      "|Background|      tcp|       1078|    <?>|          80|RPA_FPA| 83.062141|   0|   0|  43065| 40974671| 1033777|\n",
      "|Background|      tcp|      13121|    <?>|       62860| RPA_PA|497.720459|   0|   0| 326962|132430976| 7076046|\n",
      "|Background|      tcp|         80|    <?>|        3088|   PA_A|971.288147|   0|   0|   7912|  7356876| 7153650|\n",
      "|Background|      tcp|      54518|    <?>|         993|  PA_PA|899.996399|   0|   0|     48|     5728|    3008|\n",
      "|Background|      tcp|      19083|     ?>|        2185|   RPA_| 38.753445|   0|null|      7|      456|     456|\n",
      "|Background|      tcp|       3095|    <?>|          80|  RA_PA|662.994385|   0|   0|   6137|  5700818|  158064|\n",
      "|Background|      tcp|       3090|    <?>|          80| FRA_PA|485.885773|   0|   0|   4153|  3858512|  106820|\n",
      "|Background|      udp|      19146|    <->|       51180|    CON|971.284058|   0|   0| 118864| 29360448|22872870|\n",
      "|    Normal|      tcp|      57264|    <?>|         443| PA_RPA|969.978516|   0|   0|     53|     4279|    1791|\n",
      "|    Normal|      tcp|      43869|    <?>|         443|   PA_A|960.128662|   0|   0|     38|     2280|    1140|\n",
      "|    Normal|      tcp|      58187|    <?>|         443|  PA_PA|960.126648|   0|   0|    129|    22731|    7130|\n",
      "|Background|      tcp|         80|    <?>|       32792|  PA_PA| 931.97052|   0|   0|    147|    74900|   13404|\n",
      "|Background|      tcp|        443|    <?>|       33389|  PA_PA|959.095459|   0|   0|    191|    61146|   30372|\n",
      "|Background|      tcp|         80|    <?>|        3994| FPA_FA| 40.137089|   0|   0|   4727|  4558603| 4452163|\n",
      "|Background|      tcp|      39842|    <?>|          80|  FA_FA| 60.918018|   0|   0|      8|      528|     264|\n",
      "|Background|      tcp|      48602|    <?>|       13363|  PA_PA|955.168884|   0|   0|    487|    55798|   35900|\n",
      "|Background|      udp|      13363|    <->|       35188|    CON|938.043274|   0|   0|     43|     8328|    4371|\n",
      "|Background|      tcp|      13363|    <?>|       60612|  PA_PA|905.968018|   0|   0|     42|     2836|    1630|\n",
      "|Background|      tcp|      49422|    <?>|       53389|  PA_PA|935.789551|   0|   0|  41644| 10902960| 3019813|\n",
      "|Background|      tcp|        443|    <?>|       50328|  PA_PA|971.228333|   0|   0|  12677|  5272348| 4584731|\n",
      "+----------+---------+-----------+-------+------------+-------+----------+----+----+-------+---------+--------+\n",
      "only showing top 20 rows\n",
      "\n"
     ]
    }
   ],
   "source": [
    "df = df.withColumnRenamed('Proto','protocolo').withColumnRenamed('Sport','PortaOrigem').withColumnRenamed('Dir','Direcao')\\\n",
    "        .withColumnRenamed('Dport','PortaDestino').withColumnRenamed('State','Estado').withColumnRenamed('Dur','Duracao')\\\n",
    "        .withColumnRenamed('Label',\"Rotulo\")\n",
    "df.show()"
   ]
  },
  {
   "cell_type": "markdown",
   "id": "7ea364d4",
   "metadata": {},
   "source": [
    "**Mostrar Nomes das Colunas**"
   ]
  },
  {
   "cell_type": "code",
   "execution_count": 159,
   "id": "4052b10f",
   "metadata": {},
   "outputs": [
    {
     "data": {
      "text/plain": [
       "['Rotulo',\n",
       " 'protocolo',\n",
       " 'PortaOrigem',\n",
       " 'Direcao',\n",
       " 'PortaDestino',\n",
       " 'Estado',\n",
       " 'Duracao',\n",
       " 'sTos',\n",
       " 'dTos',\n",
       " 'TotPkts',\n",
       " 'TotBytes',\n",
       " 'SrcBytes']"
      ]
     },
     "execution_count": 159,
     "metadata": {},
     "output_type": "execute_result"
    }
   ],
   "source": [
    "df.columns"
   ]
  },
  {
   "cell_type": "code",
   "execution_count": null,
   "id": "75a76125",
   "metadata": {},
   "outputs": [],
   "source": [
    "    "
   ]
  },
  {
   "cell_type": "markdown",
   "id": "b17a2066",
   "metadata": {},
   "source": [
    "**Selecionar Colunas, atribuir ao novo datafreme**"
   ]
  },
  {
   "cell_type": "code",
   "execution_count": 160,
   "id": "40e9c183",
   "metadata": {},
   "outputs": [
    {
     "name": "stdout",
     "output_type": "stream",
     "text": [
      "+----------+---------+-----------+-------+------------+-------+----+----+-------+---------+--------+----------+\n",
      "|   Duracao|protocolo|PortaOrigem|Direcao|PortaDestino| Estado|sTos|dTos|TotPkts| TotBytes|SrcBytes|    Rotulo|\n",
      "+----------+---------+-----------+-------+------------+-------+----+----+-------+---------+--------+----------+\n",
      "| 83.062141|      tcp|       1078|    <?>|          80|RPA_FPA|   0|   0|  43065| 40974671| 1033777|Background|\n",
      "|497.720459|      tcp|      13121|    <?>|       62860| RPA_PA|   0|   0| 326962|132430976| 7076046|Background|\n",
      "|971.288147|      tcp|         80|    <?>|        3088|   PA_A|   0|   0|   7912|  7356876| 7153650|Background|\n",
      "|899.996399|      tcp|      54518|    <?>|         993|  PA_PA|   0|   0|     48|     5728|    3008|Background|\n",
      "| 38.753445|      tcp|      19083|     ?>|        2185|   RPA_|   0|null|      7|      456|     456|Background|\n",
      "+----------+---------+-----------+-------+------------+-------+----+----+-------+---------+--------+----------+\n",
      "only showing top 5 rows\n",
      "\n"
     ]
    }
   ],
   "source": [
    "df = df.select(f.col('Duracao'),f.col('protocolo'),f.col('PortaOrigem'),f.col('Direcao'),f.col('PortaDestino'),f.col('Estado')\\\n",
    "         ,f.col('sTos'),f.col('dTos'),f.col('TotPkts'),f.col('TotBytes'),f.col('SrcBytes'),f.col('Rotulo'))\n",
    "\n",
    "df.show(5)"
   ]
  },
  {
   "cell_type": "markdown",
   "id": "c008e3c1",
   "metadata": {},
   "source": [
    "**Alterar o tipo de dados**"
   ]
  },
  {
   "cell_type": "code",
   "execution_count": 161,
   "id": "8acd2849",
   "metadata": {},
   "outputs": [
    {
     "name": "stdout",
     "output_type": "stream",
     "text": [
      "root\n",
      " |-- Duracao: double (nullable = true)\n",
      " |-- protocolo: string (nullable = true)\n",
      " |-- PortaOrigem: string (nullable = true)\n",
      " |-- Direcao: string (nullable = true)\n",
      " |-- PortaDestino: string (nullable = true)\n",
      " |-- Estado: string (nullable = true)\n",
      " |-- sTos: integer (nullable = true)\n",
      " |-- dTos: integer (nullable = true)\n",
      " |-- TotPkts: integer (nullable = true)\n",
      " |-- TotBytes: integer (nullable = true)\n",
      " |-- SrcBytes: integer (nullable = true)\n",
      " |-- Rotulo: string (nullable = true)\n",
      "\n"
     ]
    }
   ],
   "source": [
    "df.printSchema()"
   ]
  },
  {
   "cell_type": "code",
   "execution_count": 162,
   "id": "ab1c458b",
   "metadata": {},
   "outputs": [
    {
     "name": "stdout",
     "output_type": "stream",
     "text": [
      "root\n",
      " |-- Duracao: double (nullable = true)\n",
      " |-- protocolo: string (nullable = true)\n",
      " |-- PortaOrigem: integer (nullable = true)\n",
      " |-- Direcao: string (nullable = true)\n",
      " |-- PortaDestino: integer (nullable = true)\n",
      " |-- Estado: string (nullable = true)\n",
      " |-- sTos: integer (nullable = true)\n",
      " |-- dTos: integer (nullable = true)\n",
      " |-- TotPkts: integer (nullable = true)\n",
      " |-- TotBytes: integer (nullable = true)\n",
      " |-- SrcBytes: integer (nullable = true)\n",
      " |-- Rotulo: string (nullable = true)\n",
      "\n"
     ]
    }
   ],
   "source": [
    "df = df.withColumn('PortaOrigem',f.col('Portaorigem').cast(t.IntegerType()))\\\n",
    "        .withColumn('PortaDestino',f.col('PortaDestino').cast(t.IntegerType()))\n",
    "\n",
    "df.printSchema()"
   ]
  },
  {
   "cell_type": "markdown",
   "id": "74bb1044",
   "metadata": {},
   "source": [
    "**Tratando Valores Nulos / dados faltante**"
   ]
  },
  {
   "cell_type": "markdown",
   "id": "9cd8539a",
   "metadata": {},
   "source": [
    "**Verificar Valores Nulos em cada coluna {Nome_coluna : Qtd de Valores nulos}**"
   ]
  },
  {
   "cell_type": "code",
   "execution_count": 163,
   "id": "15cf1309",
   "metadata": {},
   "outputs": [
    {
     "name": "stdout",
     "output_type": "stream",
     "text": [
      "Duracao  :  0\n",
      "protocolo  :  0\n",
      "PortaOrigem  :  12946\n",
      "Direcao  :  0\n",
      "PortaDestino  :  12990\n",
      "Estado  :  91\n",
      "sTos  :  980\n",
      "dTos  :  16959\n",
      "TotPkts  :  0\n",
      "TotBytes  :  0\n",
      "SrcBytes  :  0\n",
      "Rotulo  :  0\n"
     ]
    }
   ],
   "source": [
    "for coluna in df.columns:\n",
    "    print(coluna,\" : \", df.filter(df[coluna].isNull()).count())"
   ]
  },
  {
   "cell_type": "markdown",
   "id": "462fb3a6",
   "metadata": {},
   "source": [
    "**Preencher Valores nulos apartir do calculo da moda (a frequencia dos dados)**"
   ]
  },
  {
   "cell_type": "code",
   "execution_count": 164,
   "id": "b0704ec5",
   "metadata": {},
   "outputs": [
    {
     "name": "stdout",
     "output_type": "stream",
     "text": [
      "Nome da coluna : O valor com maior frequencia (Moda)\n",
      "PortaOrigem  :  13363\n",
      "PortaDestino  :  53\n",
      "Estado  :  CON\n",
      "sTos  :  0\n",
      "dTos  :  0\n"
     ]
    }
   ],
   "source": [
    "# A impressao dos valores eh so para mostrar qual eh o valor mais frequente (a moda) em cda uma das colunas que posuem dados nulos\n",
    "print(\"Nome da coluna : O valor com maior frequencia (Moda)\")\n",
    "\n",
    "for coluna in df.columns:\n",
    "    if df.filter(df[coluna].isNull()).count() != 0:\n",
    "        count_mode_val = df.groupBy(coluna).count().filter(f.col(coluna).isNotNull())\\\n",
    "                            .agg(f.max(\"count\")).collect()[0][0]\n",
    "        mode_val = df.groupBy(coluna).count().filter(f.col(coluna).isNotNull())\\\n",
    "                            .filter(f.col(\"count\") == count_mode_val).select(coluna).collect()[0][0]\n",
    "\n",
    "        print(coluna,\" : \", mode_val)\n",
    "        df=df.na.fill(mode_val,subset=[coluna])"
   ]
  },
  {
   "cell_type": "code",
   "execution_count": null,
   "id": "12bdeaa8",
   "metadata": {},
   "outputs": [],
   "source": []
  },
  {
   "cell_type": "markdown",
   "id": "57d57884",
   "metadata": {},
   "source": [
    "**Verificando Novamente Valores nulos**"
   ]
  },
  {
   "cell_type": "code",
   "execution_count": 165,
   "id": "524819ea",
   "metadata": {},
   "outputs": [
    {
     "name": "stdout",
     "output_type": "stream",
     "text": [
      "Duracao  :  0\n",
      "protocolo  :  0\n",
      "PortaOrigem  :  0\n",
      "Direcao  :  0\n",
      "PortaDestino  :  0\n",
      "Estado  :  0\n",
      "sTos  :  0\n",
      "dTos  :  0\n",
      "TotPkts  :  0\n",
      "TotBytes  :  0\n",
      "SrcBytes  :  0\n",
      "Rotulo  :  0\n"
     ]
    }
   ],
   "source": [
    "for coluna in df.columns:\n",
    "    print(coluna,\" : \", df.filter(df[coluna].isNull()).count())"
   ]
  },
  {
   "cell_type": "markdown",
   "id": "d4ad901c",
   "metadata": {},
   "source": [
    "**Tratando dados ruidosos** "
   ]
  },
  {
   "cell_type": "code",
   "execution_count": 166,
   "id": "6a7e0fa2",
   "metadata": {},
   "outputs": [
    {
     "name": "stdout",
     "output_type": "stream",
     "text": [
      "+--------+\n",
      "|count(1)|\n",
      "+--------+\n",
      "|  107251|\n",
      "+--------+\n",
      "\n"
     ]
    }
   ],
   "source": [
    "df.createOrReplaceTempView(\"tabela\")\n",
    "spark.sql(\"SELECT count(*) from tabela\").show()"
   ]
  },
  {
   "cell_type": "code",
   "execution_count": 167,
   "id": "54e409c0",
   "metadata": {},
   "outputs": [
    {
     "name": "stdout",
     "output_type": "stream",
     "text": [
      "+----------+\n",
      "|   Duracao|\n",
      "+----------+\n",
      "|252.235641|\n",
      "| 965.60437|\n",
      "|948.458923|\n",
      "|   0.38899|\n",
      "|950.313721|\n",
      "|932.998535|\n",
      "| 29.553505|\n",
      "|    7.5E-4|\n",
      "|   3.71E-4|\n",
      "| 33.070011|\n",
      "| 21.092537|\n",
      "|   7.18E-4|\n",
      "|  0.154451|\n",
      "|  1.244861|\n",
      "|   8.77E-4|\n",
      "|  0.999027|\n",
      "|  0.218348|\n",
      "|  0.187115|\n",
      "|862.619385|\n",
      "|  0.028589|\n",
      "+----------+\n",
      "only showing top 20 rows\n",
      "\n"
     ]
    }
   ],
   "source": [
    "spark.sql(\"SELECT DISTINCT Duracao from tabela\").show()"
   ]
  },
  {
   "cell_type": "code",
   "execution_count": 168,
   "id": "de8bae44",
   "metadata": {},
   "outputs": [
    {
     "name": "stdout",
     "output_type": "stream",
     "text": [
      "+-----------+\n",
      "|PortaOrigem|\n",
      "+-----------+\n",
      "|      65408|\n",
      "|      15790|\n",
      "|      43688|\n",
      "|       4818|\n",
      "|      43527|\n",
      "|      52697|\n",
      "|       4935|\n",
      "|      49331|\n",
      "|      40386|\n",
      "|      51415|\n",
      "|       2122|\n",
      "|      30970|\n",
      "|      57693|\n",
      "|      17420|\n",
      "|      53634|\n",
      "|      49308|\n",
      "|       1088|\n",
      "|      50353|\n",
      "|      12799|\n",
      "|      56110|\n",
      "+-----------+\n",
      "only showing top 20 rows\n",
      "\n"
     ]
    }
   ],
   "source": [
    "spark.sql(\"SELECT DISTINCT PortaOrigem from tabela\").show()"
   ]
  },
  {
   "cell_type": "code",
   "execution_count": 169,
   "id": "90bfa515",
   "metadata": {},
   "outputs": [
    {
     "name": "stdout",
     "output_type": "stream",
     "text": [
      "+-------+\n",
      "|Direcao|\n",
      "+-------+\n",
      "|who    |\n",
      "|?>     |\n",
      "|<->    |\n",
      "|<?>    |\n",
      "|<-     |\n",
      "|->     |\n",
      "+-------+\n",
      "\n"
     ]
    }
   ],
   "source": [
    "spark.sql(\"SELECT DISTINCT Direcao from tabela\").show(truncate=False)"
   ]
  },
  {
   "cell_type": "markdown",
   "id": "d29c25b8",
   "metadata": {},
   "source": [
    "**O Uso da funcao do replace do spark foi necessaria para tratar dados ruidosos na coluna Direcao**\n",
    "Tratandosse de dados bidirecional, a coluna deveria ter direcao para duplo sentido, sentido esquedo e direito"
   ]
  },
  {
   "cell_type": "code",
   "execution_count": 170,
   "id": "27219dac",
   "metadata": {},
   "outputs": [],
   "source": [
    "# Funcao replace do sql\n",
    "\n",
    "df=spark.sql(\"SELECT Duracao, protocolo, PortaOrigem, REPLACE(Direcao, '?', '-') as Direcao, PortaDestino, Estado\\\n",
    "            ,sTos, dTos, TotPkts, TotBytes, SrcBytes, Rotulo  from tabela\")"
   ]
  },
  {
   "cell_type": "code",
   "execution_count": 171,
   "id": "3584ae93",
   "metadata": {},
   "outputs": [
    {
     "name": "stdout",
     "output_type": "stream",
     "text": [
      "+-------+\n",
      "|Direcao|\n",
      "+-------+\n",
      "|who    |\n",
      "|<->    |\n",
      "|<-     |\n",
      "|->     |\n",
      "+-------+\n",
      "\n"
     ]
    }
   ],
   "source": [
    "df.createOrReplaceTempView(\"tabela\")\n",
    "spark.sql(\"SELECT DISTINCT Direcao from tabela\").show(truncate=False)"
   ]
  },
  {
   "cell_type": "code",
   "execution_count": 172,
   "id": "306292b7",
   "metadata": {},
   "outputs": [
    {
     "name": "stdout",
     "output_type": "stream",
     "text": [
      "+-------+\n",
      "|Direcao|\n",
      "+-------+\n",
      "|<->    |\n",
      "|<-     |\n",
      "|->     |\n",
      "+-------+\n",
      "\n"
     ]
    }
   ],
   "source": [
    "df=df.withColumn('Direcao', f.regexp_replace('Direcao','who','<->'))\n",
    "df.createOrReplaceTempView(\"tabela\")\n",
    "spark.sql(\"SELECT DISTINCT Direcao from tabela\").show(truncate=False)"
   ]
  },
  {
   "cell_type": "markdown",
   "id": "bf24f5b1",
   "metadata": {},
   "source": [
    "**Elimanar linhas repetidas - a funcao distintct() e a dropDuplicates() (quando nao passado nenhum parametro funcianam da mesma maneira, eliminanam linhas repetidas e retornam um novo datafreme)**"
   ]
  },
  {
   "cell_type": "code",
   "execution_count": 173,
   "id": "681069f8",
   "metadata": {},
   "outputs": [
    {
     "data": {
      "text/plain": [
       "107251"
      ]
     },
     "execution_count": 173,
     "metadata": {},
     "output_type": "execute_result"
    }
   ],
   "source": [
    "#Total de linhas antes da eliminacao de linhas duplicadas \n",
    "df.count()"
   ]
  },
  {
   "cell_type": "code",
   "execution_count": 174,
   "id": "e8e5c28a",
   "metadata": {},
   "outputs": [
    {
     "name": "stdout",
     "output_type": "stream",
     "text": [
      "+----------+\n",
      "|sum(count)|\n",
      "+----------+\n",
      "|     10675|\n",
      "+----------+\n",
      "\n"
     ]
    }
   ],
   "source": [
    "# Contar linhas duplicadas \n",
    "\n",
    "df.groupBy(df.columns).count().where(f.col('count') > 1).select(f.sum('count')).show()"
   ]
  },
  {
   "cell_type": "code",
   "execution_count": 175,
   "id": "3b7384ef",
   "metadata": {},
   "outputs": [
    {
     "data": {
      "text/plain": [
       "97178"
      ]
     },
     "execution_count": 175,
     "metadata": {},
     "output_type": "execute_result"
    }
   ],
   "source": [
    "# Total de linhas depois de eliminacao de duplicatas\n",
    "df.dropDuplicates().count()"
   ]
  },
  {
   "cell_type": "code",
   "execution_count": 176,
   "id": "810fac31",
   "metadata": {},
   "outputs": [],
   "source": [
    "df=df.dropDuplicates()"
   ]
  },
  {
   "cell_type": "code",
   "execution_count": null,
   "id": "2450ea2d",
   "metadata": {},
   "outputs": [],
   "source": []
  },
  {
   "cell_type": "markdown",
   "id": "5657f9b0",
   "metadata": {},
   "source": [
    "# Continuacao de preprocessamento - Etapa de Transformacao de dados e Mineracao (aplicando algoritmos de machine learning)"
   ]
  },
  {
   "cell_type": "markdown",
   "id": "0f9bf1d6",
   "metadata": {},
   "source": [
    "Creando indice para para as variaveis categoricas "
   ]
  },
  {
   "cell_type": "code",
   "execution_count": 177,
   "id": "d5b26b1a",
   "metadata": {},
   "outputs": [],
   "source": [
    "#Novo datafreme para criacao de modelos \n",
    "dfparamodelos = df"
   ]
  },
  {
   "cell_type": "code",
   "execution_count": 178,
   "id": "8f940bd6",
   "metadata": {},
   "outputs": [
    {
     "name": "stdout",
     "output_type": "stream",
     "text": [
      "root\n",
      " |-- Duracao: double (nullable = true)\n",
      " |-- protocolo: string (nullable = true)\n",
      " |-- PortaOrigem: integer (nullable = true)\n",
      " |-- Direcao: string (nullable = true)\n",
      " |-- PortaDestino: integer (nullable = true)\n",
      " |-- Estado: string (nullable = false)\n",
      " |-- sTos: integer (nullable = true)\n",
      " |-- dTos: integer (nullable = true)\n",
      " |-- TotPkts: integer (nullable = true)\n",
      " |-- TotBytes: integer (nullable = true)\n",
      " |-- SrcBytes: integer (nullable = true)\n",
      " |-- Rotulo: string (nullable = true)\n",
      "\n"
     ]
    }
   ],
   "source": [
    "dfparamodelos.printSchema()"
   ]
  },
  {
   "cell_type": "code",
   "execution_count": 179,
   "id": "f953aa97",
   "metadata": {},
   "outputs": [],
   "source": [
    "# criar o objeto da classe StringIndexer com especificacao da coluna de entrada e saída (transformar dados categoricos em numericos continuos para criacao de modelos)\n",
    "SI_protocolo = StringIndexer(inputCol='protocolo',outputCol='protocolo_index')\n",
    "SI_direcao = StringIndexer(inputCol='Direcao',outputCol='Direcao_index')\n",
    "SI_estado = StringIndexer(inputCol='Estado',outputCol='Estado_index')\n",
    "SI_rotulo = StringIndexer(inputCol='Rotulo',outputCol='rotulo_index')"
   ]
  },
  {
   "cell_type": "code",
   "execution_count": 180,
   "id": "e06d7598",
   "metadata": {},
   "outputs": [],
   "source": [
    "# Aplicando a funcao transfoma(df), nos objectos criados \n",
    "dfparamodelos = SI_protocolo.fit(dfparamodelos).transform(dfparamodelos)\n",
    "dfparamodelos = SI_direcao.fit(dfparamodelos).transform(dfparamodelos)\n",
    "dfparamodelos = SI_estado.fit(dfparamodelos).transform(dfparamodelos)\n",
    "dfparamodelos = SI_rotulo.fit(dfparamodelos).transform(dfparamodelos)"
   ]
  },
  {
   "cell_type": "code",
   "execution_count": 181,
   "id": "2dcb287f",
   "metadata": {},
   "outputs": [
    {
     "data": {
      "text/plain": [
       "['Duracao',\n",
       " 'protocolo',\n",
       " 'PortaOrigem',\n",
       " 'Direcao',\n",
       " 'PortaDestino',\n",
       " 'Estado',\n",
       " 'sTos',\n",
       " 'dTos',\n",
       " 'TotPkts',\n",
       " 'TotBytes',\n",
       " 'SrcBytes',\n",
       " 'Rotulo',\n",
       " 'protocolo_index',\n",
       " 'Direcao_index',\n",
       " 'Estado_index',\n",
       " 'rotulo_index']"
      ]
     },
     "execution_count": 181,
     "metadata": {},
     "output_type": "execute_result"
    }
   ],
   "source": [
    "dfparamodelos.columns"
   ]
  },
  {
   "cell_type": "code",
   "execution_count": 182,
   "id": "7f0da17c",
   "metadata": {},
   "outputs": [],
   "source": [
    "#vector assembler\n",
    "assembler = VectorAssembler( inputCols=['Duracao','protocolo_index','PortaOrigem'\\\n",
    "                                        ,'Direcao_index','PortaDestino','Estado_index'\\\n",
    "                                        ,'sTos','dTos','TotPkts','TotBytes','SrcBytes']\\\n",
    "                            ,outputCol='features')"
   ]
  },
  {
   "cell_type": "code",
   "execution_count": 183,
   "id": "89f24788",
   "metadata": {},
   "outputs": [
    {
     "name": "stdout",
     "output_type": "stream",
     "text": [
      "+---------+---------+-----------+-------+------------+---------+----+----+-------+--------+--------+----------+---------------+-------------+------------+------------+--------------------+\n",
      "|  Duracao|protocolo|PortaOrigem|Direcao|PortaDestino|   Estado|sTos|dTos|TotPkts|TotBytes|SrcBytes|    Rotulo|protocolo_index|Direcao_index|Estado_index|rotulo_index|            features|\n",
      "+---------+---------+-----------+-------+------------+---------+----+----+-------+--------+--------+----------+---------------+-------------+------------+------------+--------------------+\n",
      "|  8.11E-4|      udp|      45599|    <->|       13363|      CON|   0|   0|      2|     312|      64|Background|            0.0|          0.0|         0.0|         0.0|(11,[0,2,4,8,9,10...|\n",
      "|28.561224|      tcp|      38572|     ->|         443|SRPA_FSPA|   0|   0|     26|    8728|    6404|Background|            1.0|          1.0|         3.0|         0.0|[28.561224,1.0,38...|\n",
      "|  2.32E-4|      udp|      57052|    <->|          53|      CON|   0|   0|      2|     208|      79|Background|            0.0|          0.0|         0.0|         0.0|(11,[0,2,4,8,9,10...|\n",
      "+---------+---------+-----------+-------+------------+---------+----+----+-------+--------+--------+----------+---------------+-------------+------------+------------+--------------------+\n",
      "only showing top 3 rows\n",
      "\n"
     ]
    }
   ],
   "source": [
    "dfmodel = assembler.transform(dfparamodelos)\n",
    "dfmodel.show(3)"
   ]
  },
  {
   "cell_type": "code",
   "execution_count": 184,
   "id": "94c007f4",
   "metadata": {},
   "outputs": [],
   "source": [
    "dfmodel = dfmodel.select(f.col('features'),f.col('rotulo_index')).withColumnRenamed('rotulo_index','label')"
   ]
  },
  {
   "cell_type": "code",
   "execution_count": 185,
   "id": "ee20c86e",
   "metadata": {},
   "outputs": [
    {
     "name": "stdout",
     "output_type": "stream",
     "text": [
      "+----------------------------------------------------------------+-----+\n",
      "|features                                                        |label|\n",
      "+----------------------------------------------------------------+-----+\n",
      "|(11,[0,2,4,8,9,10],[8.11E-4,45599.0,13363.0,2.0,312.0,64.0])    |0.0  |\n",
      "|[28.561224,1.0,38572.0,1.0,443.0,3.0,0.0,0.0,26.0,8728.0,6404.0]|0.0  |\n",
      "|(11,[0,2,4,8,9,10],[2.32E-4,57052.0,53.0,2.0,208.0,79.0])       |0.0  |\n",
      "+----------------------------------------------------------------+-----+\n",
      "only showing top 3 rows\n",
      "\n"
     ]
    }
   ],
   "source": [
    "dfmodel.show(3,truncate=False)"
   ]
  },
  {
   "cell_type": "code",
   "execution_count": 186,
   "id": "691309e9",
   "metadata": {},
   "outputs": [],
   "source": [
    "#Padronizacao dos dados (Remocao outiliers)\n",
    "from pyspark.ml.feature import StandardScaler "
   ]
  },
  {
   "cell_type": "code",
   "execution_count": 187,
   "id": "cc359ed9",
   "metadata": {},
   "outputs": [],
   "source": [
    "#Padronizacao dos dados (Remocao de outiliers)\n",
    "\n",
    "standerscaler = StandardScaler().setInputCol('features').setOutputCol('scaled_features')\n",
    "dfmodeldado = standerscaler.fit(dfmodel).transform(dfmodel)"
   ]
  },
  {
   "cell_type": "code",
   "execution_count": 188,
   "id": "6d55a77e",
   "metadata": {},
   "outputs": [
    {
     "name": "stdout",
     "output_type": "stream",
     "text": [
      "+--------------------+-----+--------------------+\n",
      "|            features|label|     scaled_features|\n",
      "+--------------------+-----+--------------------+\n",
      "|(11,[0,2,4,8,9,10...|  0.0|(11,[0,2,4,8,9,10...|\n",
      "|[28.561224,1.0,38...|  0.0|[0.16159247410844...|\n",
      "|(11,[0,2,4,8,9,10...|  0.0|(11,[0,2,4,8,9,10...|\n",
      "+--------------------+-----+--------------------+\n",
      "only showing top 3 rows\n",
      "\n"
     ]
    }
   ],
   "source": [
    "dfmodeldado.show(3)"
   ]
  },
  {
   "cell_type": "code",
   "execution_count": 189,
   "id": "9ec6f337",
   "metadata": {},
   "outputs": [
    {
     "name": "stdout",
     "output_type": "stream",
     "text": [
      "+------------------------------------------------------------------------------------------------------------------------------------------------------------------------------------------+-----+\n",
      "|scaled_features                                                                                                                                                                           |label|\n",
      "+------------------------------------------------------------------------------------------------------------------------------------------------------------------------------------------+-----+\n",
      "|(11,[0,2,4,8,9,10],[4.588441185221788E-6,2.3410945494792372,0.8962376031382945,6.779452870716476E-4,1.122400961373728E-4,4.051831767886951E-4])                                           |0.0  |\n",
      "|[0.16159247410844013,1.8808911201130725,1.9803219141321768,2.219103005214615,0.02971138652924227,0.3477020085615872,0.0,0.0,0.008813288731931419,0.0031398447406634287,0.0405436416274188]|0.0  |\n",
      "|(11,[0,2,4,8,9,10],[1.3125996978686249E-6,2.9291020907671097,0.0035546354086903845,6.779452870716476E-4,7.482673075824854E-5,5.001479838485455E-4])                                       |0.0  |\n",
      "+------------------------------------------------------------------------------------------------------------------------------------------------------------------------------------------+-----+\n",
      "only showing top 3 rows\n",
      "\n"
     ]
    }
   ],
   "source": [
    "dadomodel = dfmodeldado.select(f.col('scaled_features'),f.col('label'))\n",
    "dadomodel.show(3,truncate=False)"
   ]
  },
  {
   "cell_type": "code",
   "execution_count": null,
   "id": "e339642b",
   "metadata": {},
   "outputs": [],
   "source": []
  },
  {
   "cell_type": "code",
   "execution_count": 190,
   "id": "f880b62b",
   "metadata": {},
   "outputs": [],
   "source": [
    "#Dividir os dados para treino e teste (70% treino, 30% teste)\n",
    "df_treinamento,df_teste = dadomodel.randomSplit([0.7,0.3])"
   ]
  },
  {
   "cell_type": "code",
   "execution_count": 191,
   "id": "2e54f7df",
   "metadata": {},
   "outputs": [
    {
     "data": {
      "text/plain": [
       "68307"
      ]
     },
     "execution_count": 191,
     "metadata": {},
     "output_type": "execute_result"
    }
   ],
   "source": [
    "df_treinamento.count()"
   ]
  },
  {
   "cell_type": "code",
   "execution_count": 192,
   "id": "f7f53c56",
   "metadata": {},
   "outputs": [
    {
     "data": {
      "text/plain": [
       "28871"
      ]
     },
     "execution_count": 192,
     "metadata": {},
     "output_type": "execute_result"
    }
   ],
   "source": [
    "df_teste.count()"
   ]
  },
  {
   "cell_type": "code",
   "execution_count": null,
   "id": "35354a50",
   "metadata": {},
   "outputs": [],
   "source": []
  },
  {
   "cell_type": "markdown",
   "id": "9d406560",
   "metadata": {},
   "source": [
    "**Criacao dos modelos**"
   ]
  },
  {
   "cell_type": "code",
   "execution_count": null,
   "id": "ff4caa4b",
   "metadata": {},
   "outputs": [],
   "source": []
  },
  {
   "cell_type": "markdown",
   "id": "b89e90ac",
   "metadata": {},
   "source": [
    "**Regressao Logistica**"
   ]
  },
  {
   "cell_type": "code",
   "execution_count": 193,
   "id": "28874209",
   "metadata": {},
   "outputs": [],
   "source": [
    "#Create a logistic regression model object\n",
    "\n",
    "log_reg=LogisticRegression(labelCol='label', featuresCol='scaled_features', maxIter=50)\n",
    "log_reg_Modelo=log_reg.fit(df_treinamento)\n",
    "\n"
   ]
  },
  {
   "cell_type": "code",
   "execution_count": 194,
   "id": "d807fab7",
   "metadata": {},
   "outputs": [],
   "source": [
    "#teste dos modelo\n",
    "predicao_teste = log_reg_Modelo.transform(df_teste)\n"
   ]
  },
  {
   "cell_type": "code",
   "execution_count": 195,
   "id": "64aed30a",
   "metadata": {},
   "outputs": [
    {
     "name": "stdout",
     "output_type": "stream",
     "text": [
      "+--------------------+-----+--------------------+--------------------+----------+\n",
      "|     scaled_features|label|       rawPrediction|         probability|prediction|\n",
      "+--------------------+-----+--------------------+--------------------+----------+\n",
      "|(11,[0,2,4,8,9,10...|  0.0|[19.2227210977684...|[0.99999999999922...|       0.0|\n",
      "|(11,[0,2,4,8,9,10...|  0.0|[26.0249648785573...|[1.0,2.8973526758...|       0.0|\n",
      "|(11,[0,2,4,8,9,10...|  0.0|[4.08851001618415...|[0.98683411671268...|       0.0|\n",
      "+--------------------+-----+--------------------+--------------------+----------+\n",
      "only showing top 3 rows\n",
      "\n"
     ]
    }
   ],
   "source": [
    "predicao_teste.show(3)"
   ]
  },
  {
   "cell_type": "code",
   "execution_count": 196,
   "id": "e6e80db7",
   "metadata": {},
   "outputs": [],
   "source": [
    "predicaorotulo=predicao_teste.select('label','prediction')"
   ]
  },
  {
   "cell_type": "code",
   "execution_count": 197,
   "id": "c9a562da",
   "metadata": {},
   "outputs": [
    {
     "name": "stdout",
     "output_type": "stream",
     "text": [
      "Acuracia:  0.9850022513941326\n"
     ]
    }
   ],
   "source": [
    "Evaluator = MulticlassClassificationEvaluator(labelCol='label', predictionCol='prediction', metricName='accuracy')\n",
    "acuracia_LR = Evaluator.evaluate(predicaorotulo)\n",
    "\n",
    "print(\"Acuracia: \", acuracia_LR)"
   ]
  },
  {
   "cell_type": "code",
   "execution_count": 198,
   "id": "3156c43c",
   "metadata": {},
   "outputs": [
    {
     "name": "stdout",
     "output_type": "stream",
     "text": [
      "Precisao:  0.9865745933819405\n"
     ]
    }
   ],
   "source": [
    "Evaluator = MulticlassClassificationEvaluator(labelCol='label', predictionCol='prediction', metricName='precisionByLabel')\n",
    "precisao_LR = Evaluator.evaluate(predicaorotulo)\n",
    "\n",
    "print(\"Precisao: \", precisao_LR)"
   ]
  },
  {
   "cell_type": "code",
   "execution_count": 199,
   "id": "11a9a849",
   "metadata": {},
   "outputs": [
    {
     "name": "stdout",
     "output_type": "stream",
     "text": [
      "Recal:  0.9982620415691282\n"
     ]
    }
   ],
   "source": [
    "Evaluator = MulticlassClassificationEvaluator(labelCol='label', predictionCol='prediction', metricName='recallByLabel')\n",
    "recal_LR = Evaluator.evaluate(predicaorotulo)\n",
    "\n",
    "print(\"Recal: \", recal_LR)"
   ]
  },
  {
   "cell_type": "markdown",
   "id": "45bac57d",
   "metadata": {},
   "source": [
    "**Naive Bayes**"
   ]
  },
  {
   "cell_type": "code",
   "execution_count": 200,
   "id": "2777a903",
   "metadata": {},
   "outputs": [],
   "source": [
    "NB= NaiveBayes(labelCol='label',featuresCol='scaled_features', smoothing=1.0)\n",
    "modeloNB = NB.fit(df_treinamento)"
   ]
  },
  {
   "cell_type": "code",
   "execution_count": 201,
   "id": "c8486b99",
   "metadata": {},
   "outputs": [],
   "source": [
    "predicao_testeNB = modeloNB.transform(df_teste)"
   ]
  },
  {
   "cell_type": "code",
   "execution_count": 202,
   "id": "8c5ab564",
   "metadata": {},
   "outputs": [
    {
     "name": "stdout",
     "output_type": "stream",
     "text": [
      "+--------------------+-----+--------------------+--------------------+----------+\n",
      "|     scaled_features|label|       rawPrediction|         probability|prediction|\n",
      "+--------------------+-----+--------------------+--------------------+----------+\n",
      "|(11,[0,2,4,8,9,10...|  0.0|[-3.2758189835748...|[0.99993487892554...|       0.0|\n",
      "|(11,[0,2,4,8,9,10...|  0.0|[-4.6446100824540...|[0.99999404864930...|       0.0|\n",
      "|(11,[0,2,4,8,9,10...|  0.0|[-1.6992237042355...|[0.99524008100203...|       0.0|\n",
      "+--------------------+-----+--------------------+--------------------+----------+\n",
      "only showing top 3 rows\n",
      "\n"
     ]
    }
   ],
   "source": [
    "predicao_testeNB.show(3)"
   ]
  },
  {
   "cell_type": "code",
   "execution_count": 203,
   "id": "bdcfa3a7",
   "metadata": {},
   "outputs": [],
   "source": [
    "predicaorotuloNB=predicao_testeNB.select('label','prediction')"
   ]
  },
  {
   "cell_type": "code",
   "execution_count": 204,
   "id": "13c3fb0e",
   "metadata": {},
   "outputs": [
    {
     "name": "stdout",
     "output_type": "stream",
     "text": [
      "Acuracia:  0.9606871947629109\n"
     ]
    }
   ],
   "source": [
    "Evaluator = MulticlassClassificationEvaluator(labelCol='label', predictionCol='prediction', metricName='accuracy')\n",
    "acuracia_NB = Evaluator.evaluate(predicaorotuloNB)\n",
    "\n",
    "print(\"Acuracia: \", acuracia_NB)"
   ]
  },
  {
   "cell_type": "code",
   "execution_count": 205,
   "id": "34811e08",
   "metadata": {},
   "outputs": [
    {
     "name": "stdout",
     "output_type": "stream",
     "text": [
      "Precisao:  0.9939246216530849\n"
     ]
    }
   ],
   "source": [
    "Evaluator = MulticlassClassificationEvaluator(labelCol='label', predictionCol='prediction', metricName='precisionByLabel')\n",
    "precisao_NB = Evaluator.evaluate(predicaorotuloNB)\n",
    "\n",
    "print(\"Precisao: \", precisao_NB)"
   ]
  },
  {
   "cell_type": "code",
   "execution_count": 206,
   "id": "238fe66a",
   "metadata": {},
   "outputs": [
    {
     "name": "stdout",
     "output_type": "stream",
     "text": [
      "Recal:  0.9690359650989572\n"
     ]
    }
   ],
   "source": [
    "Evaluator = MulticlassClassificationEvaluator(labelCol='label', predictionCol='prediction', metricName='recallByLabel')\n",
    "recal_NB = Evaluator.evaluate(predicaorotuloNB)\n",
    "\n",
    "print(\"Recal: \", recal_NB)"
   ]
  },
  {
   "cell_type": "code",
   "execution_count": null,
   "id": "431ce376",
   "metadata": {},
   "outputs": [],
   "source": []
  },
  {
   "cell_type": "markdown",
   "id": "984b8fd1",
   "metadata": {},
   "source": [
    "**Decision tree**"
   ]
  },
  {
   "cell_type": "code",
   "execution_count": 207,
   "id": "cf900681",
   "metadata": {},
   "outputs": [],
   "source": [
    "# Train a DecisionTree model.\n",
    "dt = DecisionTreeClassifier(labelCol=\"label\", featuresCol=\"scaled_features\"\\\n",
    "                            ,impurity='gini', maxDepth=8, maxBins=32)\n",
    "\n"
   ]
  },
  {
   "cell_type": "code",
   "execution_count": 208,
   "id": "f61414af",
   "metadata": {},
   "outputs": [],
   "source": [
    "dtmodelo=dt.fit(df_treinamento)"
   ]
  },
  {
   "cell_type": "code",
   "execution_count": 209,
   "id": "f13fa94d",
   "metadata": {},
   "outputs": [],
   "source": [
    "predicao_testeDT = dtmodelo.transform(df_teste)"
   ]
  },
  {
   "cell_type": "code",
   "execution_count": 210,
   "id": "c18a1cf4",
   "metadata": {},
   "outputs": [
    {
     "name": "stdout",
     "output_type": "stream",
     "text": [
      "+--------------------+-----+------------------+--------------------+----------+\n",
      "|     scaled_features|label|     rawPrediction|         probability|prediction|\n",
      "+--------------------+-----+------------------+--------------------+----------+\n",
      "|(11,[0,2,4,8,9,10...|  0.0| [29648.0,0.0,0.0]|       [1.0,0.0,0.0]|       0.0|\n",
      "|(11,[0,2,4,8,9,10...|  0.0| [29648.0,0.0,0.0]|       [1.0,0.0,0.0]|       0.0|\n",
      "|(11,[0,2,4,8,9,10...|  0.0|[16542.0,42.0,0.0]|[0.99746743849493...|       0.0|\n",
      "+--------------------+-----+------------------+--------------------+----------+\n",
      "only showing top 3 rows\n",
      "\n"
     ]
    }
   ],
   "source": [
    "predicao_testeDT.show(3)"
   ]
  },
  {
   "cell_type": "code",
   "execution_count": null,
   "id": "2af5694f",
   "metadata": {},
   "outputs": [],
   "source": []
  },
  {
   "cell_type": "code",
   "execution_count": 211,
   "id": "05c73de3",
   "metadata": {},
   "outputs": [],
   "source": [
    "predicaorotuloDT=predicao_testeDT.select('label','prediction')"
   ]
  },
  {
   "cell_type": "code",
   "execution_count": 212,
   "id": "f0cbdf91",
   "metadata": {},
   "outputs": [
    {
     "name": "stdout",
     "output_type": "stream",
     "text": [
      "Acuracia:  0.9939039174257905\n"
     ]
    }
   ],
   "source": [
    "Evaluator = MulticlassClassificationEvaluator(labelCol='label', predictionCol='prediction', metricName='accuracy')\n",
    "acuracia_DT = Evaluator.evaluate(predicaorotuloDT)\n",
    "\n",
    "print(\"Acuracia: \", acuracia_DT)"
   ]
  },
  {
   "cell_type": "code",
   "execution_count": 213,
   "id": "fcf0640e",
   "metadata": {},
   "outputs": [
    {
     "name": "stdout",
     "output_type": "stream",
     "text": [
      "Precisao:  0.9965969514356611\n"
     ]
    }
   ],
   "source": [
    "Evaluator = MulticlassClassificationEvaluator(labelCol='label', predictionCol='prediction', metricName='precisionByLabel')\n",
    "precisao_DT = Evaluator.evaluate(predicaorotuloDT)\n",
    "\n",
    "print(\"Precisao: \", precisao_DT)"
   ]
  },
  {
   "cell_type": "code",
   "execution_count": 214,
   "id": "76bc2942",
   "metadata": {},
   "outputs": [
    {
     "name": "stdout",
     "output_type": "stream",
     "text": [
      "Recal:  0.9971625168475562\n"
     ]
    }
   ],
   "source": [
    "Evaluator = MulticlassClassificationEvaluator(labelCol='label', predictionCol='prediction', metricName='recallByLabel')\n",
    "recal_DT = Evaluator.evaluate(predicaorotuloDT)\n",
    "\n",
    "print(\"Recal: \", recal_DT)"
   ]
  },
  {
   "cell_type": "code",
   "execution_count": null,
   "id": "08d03a62",
   "metadata": {},
   "outputs": [],
   "source": []
  },
  {
   "cell_type": "code",
   "execution_count": null,
   "id": "19242be0",
   "metadata": {},
   "outputs": [],
   "source": []
  },
  {
   "cell_type": "code",
   "execution_count": null,
   "id": "d5468436",
   "metadata": {},
   "outputs": [],
   "source": []
  },
  {
   "cell_type": "code",
   "execution_count": null,
   "id": "d6e13678",
   "metadata": {},
   "outputs": [],
   "source": []
  },
  {
   "cell_type": "markdown",
   "id": "082d23b6",
   "metadata": {},
   "source": [
    "**Random Forest Classifier**"
   ]
  },
  {
   "cell_type": "code",
   "execution_count": 215,
   "id": "10091b24",
   "metadata": {},
   "outputs": [],
   "source": [
    "rfc = RandomForestClassifier(labelCol='label', featuresCol='scaled_features')\n"
   ]
  },
  {
   "cell_type": "code",
   "execution_count": 216,
   "id": "8c70e1a6",
   "metadata": {},
   "outputs": [],
   "source": [
    "modeloRFC = rfc.fit(df_treinamento)"
   ]
  },
  {
   "cell_type": "code",
   "execution_count": 217,
   "id": "d68f415d",
   "metadata": {},
   "outputs": [],
   "source": [
    "predicao_testeRFC=modeloRFC.transform(df_teste)"
   ]
  },
  {
   "cell_type": "code",
   "execution_count": 218,
   "id": "05137ff9",
   "metadata": {},
   "outputs": [
    {
     "name": "stdout",
     "output_type": "stream",
     "text": [
      "+--------------------+-----+--------------------+--------------------+----------+\n",
      "|     scaled_features|label|       rawPrediction|         probability|prediction|\n",
      "+--------------------+-----+--------------------+--------------------+----------+\n",
      "|(11,[0,2,4,8,9,10...|  0.0|[19.8671305212248...|[0.99335652606124...|       0.0|\n",
      "|(11,[0,2,4,8,9,10...|  0.0|[19.8671305212248...|[0.99335652606124...|       0.0|\n",
      "|(11,[0,2,4,8,9,10...|  0.0|[19.8503673081434...|[0.99251836540717...|       0.0|\n",
      "+--------------------+-----+--------------------+--------------------+----------+\n",
      "only showing top 3 rows\n",
      "\n"
     ]
    }
   ],
   "source": [
    "predicao_testeRFC.show(3)"
   ]
  },
  {
   "cell_type": "code",
   "execution_count": null,
   "id": "df2a34e6",
   "metadata": {},
   "outputs": [],
   "source": []
  },
  {
   "cell_type": "code",
   "execution_count": 219,
   "id": "55a0c215",
   "metadata": {},
   "outputs": [],
   "source": [
    "predicaorotuloRFC=predicao_testeRFC.select('label','prediction')"
   ]
  },
  {
   "cell_type": "code",
   "execution_count": 220,
   "id": "0b36d7a5",
   "metadata": {},
   "outputs": [
    {
     "name": "stdout",
     "output_type": "stream",
     "text": [
      "Acuracia:  0.9938692805929826\n"
     ]
    }
   ],
   "source": [
    "Evaluator = MulticlassClassificationEvaluator(labelCol='label', predictionCol='prediction', metricName='accuracy')\n",
    "acuracia_RFC = Evaluator.evaluate(predicaorotuloRFC)\n",
    "\n",
    "print(\"Acuracia: \", acuracia_RFC)"
   ]
  },
  {
   "cell_type": "code",
   "execution_count": 221,
   "id": "ee525ef2",
   "metadata": {},
   "outputs": [
    {
     "name": "stdout",
     "output_type": "stream",
     "text": [
      "Precisao:  0.9940050075819021\n"
     ]
    }
   ],
   "source": [
    "Evaluator = MulticlassClassificationEvaluator(labelCol='label', predictionCol='prediction', metricName='precisionByLabel')\n",
    "precisao_RFC = Evaluator.evaluate(predicaorotuloRFC)\n",
    "\n",
    "print(\"Precisao: \", precisao_RFC)"
   ]
  },
  {
   "cell_type": "code",
   "execution_count": 222,
   "id": "923c742a",
   "metadata": {},
   "outputs": [
    {
     "name": "stdout",
     "output_type": "stream",
     "text": [
      "Recal:  0.9997517202241611\n"
     ]
    }
   ],
   "source": [
    "Evaluator = MulticlassClassificationEvaluator(labelCol='label', predictionCol='prediction', metricName='recallByLabel')\n",
    "recal_RFC = Evaluator.evaluate(predicaorotuloRFC)\n",
    "\n",
    "print(\"Recal: \", recal_RFC)"
   ]
  },
  {
   "cell_type": "code",
   "execution_count": null,
   "id": "037c7a0c",
   "metadata": {},
   "outputs": [],
   "source": []
  },
  {
   "cell_type": "code",
   "execution_count": null,
   "id": "44e79a09",
   "metadata": {},
   "outputs": [],
   "source": []
  },
  {
   "cell_type": "code",
   "execution_count": null,
   "id": "ae0ee18d",
   "metadata": {},
   "outputs": [],
   "source": []
  },
  {
   "cell_type": "code",
   "execution_count": null,
   "id": "db37d131",
   "metadata": {},
   "outputs": [],
   "source": []
  }
 ],
 "metadata": {
  "kernelspec": {
   "display_name": "Python 3 (ipykernel)",
   "language": "python",
   "name": "python3"
  },
  "language_info": {
   "codemirror_mode": {
    "name": "ipython",
    "version": 3
   },
   "file_extension": ".py",
   "mimetype": "text/x-python",
   "name": "python",
   "nbconvert_exporter": "python",
   "pygments_lexer": "ipython3",
   "version": "3.9.13"
  }
 },
 "nbformat": 4,
 "nbformat_minor": 5
}
